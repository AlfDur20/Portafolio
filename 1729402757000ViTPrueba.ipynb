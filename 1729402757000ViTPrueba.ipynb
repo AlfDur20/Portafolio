{
  "nbformat": 4,
  "nbformat_minor": 0,
  "metadata": {
    "colab": {
      "provenance": [],
      "gpuType": "T4"
    },
    "kernelspec": {
      "name": "python3",
      "display_name": "Python 3"
    },
    "language_info": {
      "name": "python"
    },
    "accelerator": "GPU"
  },
  "cells": [
    {
      "cell_type": "markdown",
      "source": [
        "#Setup\n",
        "Este código es una prueba de un modelo ViT, con un conjunto de datos generados a partir de un tensor con valores aleatorios."
      ],
      "metadata": {
        "id": "Sc-lpsJz2VEP"
      }
    },
    {
      "cell_type": "code",
      "execution_count": null,
      "metadata": {
        "id": "JPBMsSfXrJrA"
      },
      "outputs": [],
      "source": [
        "import torch\n",
        "from torch import nn\n",
        "import pandas as pd\n",
        "from torch import optim\n",
        "from torch.utils.data import DataLoader, Dataset\n",
        "from torchvision import transforms\n",
        "from sklearn.model_selection import train_test_split\n",
        "import matplotlib.pyplot as plt\n",
        "import numpy as np\n",
        "import random\n",
        "import timeit\n",
        "from tqdm import tqdm\n",
        "from tensorflow import keras\n",
        "import kagglehub\n",
        "from sklearn.metrics import f1_score"
      ]
    },
    {
      "cell_type": "markdown",
      "source": [
        "#DEFINICION DE HIPERPARAMETROS"
      ],
      "metadata": {
        "id": "e1cCCsjawSHh"
      }
    },
    {
      "cell_type": "code",
      "source": [
        "\n",
        "\n",
        "random_seed = 42\n",
        "batch_size = 256\n",
        "num_epochs = 60\n",
        "\n",
        "learning_rate = 1e-4\n",
        "n_classes = 10\n",
        "patch_size = 4\n",
        "image_size = 28\n",
        "input_channels = 1\n",
        "num_heads = 8\n",
        "batch_size = 256\n",
        "dropout = 0.2\n",
        "hidden_dimension = 768\n",
        "adam_weight_decay = 1e-3\n",
        "adam_betas = (0.9, 0.999)\n",
        "activation = 'gelu'\n",
        "num_encoders = 6\n",
        "embedding_dimension = patch_size*patch_size*input_channels # 4*4*1 = 16\n",
        "num_patches = (image_size//patch_size)**2 #(28/4)^2 = 49\n",
        "\n",
        "\n",
        "random.seed(random_seed)\n",
        "np.random.seed(random_seed)\n",
        "torch.manual_seed(random_seed)\n",
        "torch.cuda.manual_seed(random_seed)\n",
        "torch.cuda.manual_seed_all(random_seed)\n",
        "torch.backends.cudnn.deterministic = True\n",
        "torch.backends.cudnn.benchmark = False\n",
        "\n",
        "device = torch.device('cuda' if torch.cuda.is_available() else 'cpu')\n"
      ],
      "metadata": {
        "id": "OdA-kx6qMlEc"
      },
      "execution_count": null,
      "outputs": []
    },
    {
      "cell_type": "markdown",
      "source": [
        "##Embedding"
      ],
      "metadata": {
        "id": "ccfkWHV-M1F9"
      }
    },
    {
      "cell_type": "code",
      "source": [
        "class PatchEmbedding(nn.Module):\n",
        "  def __init__(self, embedding_dimension, patch_size, num_patches, dropout, input_channels):\n",
        "    super().__init__()\n",
        "    \"\"\"\n",
        "    Divide la imagen en parches y los convierte en embeddings.\n",
        "\n",
        "            Inicializa la clase PatchEmbedding.\n",
        "\n",
        "        Args:\n",
        "            embedding_dimension (int): Dimensión del embedding para cada parche.\n",
        "            patch_size (int): Tamaño del parche (lado del cuadrado).\n",
        "            num_patches (int): Número total de parches en la imagen.\n",
        "            dropout (float): Probabilidad de dropout.\n",
        "            input_channels (int): Número de canales de entrada de la imagen.\n",
        "    \"\"\"\n",
        "    self.patcher  = nn.Sequential(\n",
        "        nn.Conv2d(\n",
        "            in_channels = input_channels,\n",
        "            out_channels = embedding_dimension,\n",
        "            kernel_size = patch_size,\n",
        "            stride = patch_size\n",
        "        ),\n",
        "        nn.Flatten(2)\n",
        "    )\n",
        "    self.cls_token = nn.Parameter(torch.randn(size=(1, input_channels, embedding_dimension)), requires_grad=True)\n",
        "    self.position_embeddings = nn.Parameter(torch.randn(size=(1, num_patches+1, embedding_dimension)), requires_grad=True)\n",
        "    self.dropout = nn.Dropout(p=dropout)\n",
        "\n",
        "  def forward(self, x):\n",
        "    \"\"\"\n",
        "    Realiza el forward pass de la clase PatchEmbedding.\n",
        "\n",
        "    Args:\n",
        "        x (torch.Tensor): Tensor de entrada con la imagen.\n",
        "\n",
        "    Returns:\n",
        "        torch.Tensor: Tensor con los embeddings de los parches y el token de clasificación.\n",
        "    \"\"\"\n",
        "    cls_token = self.cls_token.expand(x.shape[0], -1, -1)\n",
        "    x = self.patcher(x).permute(0, 2, 1)\n",
        "    x = torch.cat([cls_token, x], dim=1)\n",
        "    x = x + self.position_embeddings\n",
        "    x = self.dropout(x)\n",
        "    return x\n",
        "\n"
      ],
      "metadata": {
        "id": "GuIqoolzwWhq"
      },
      "execution_count": null,
      "outputs": []
    },
    {
      "cell_type": "code",
      "source": [
        "model = PatchEmbedding(\n",
        "      embedding_dimension,\n",
        "      patch_size,\n",
        "      num_patches,\n",
        "      dropout,\n",
        "      input_channels).to(device)\n",
        "\n",
        "x = torch.randn(512, 1, 28, 28).to(device)\n",
        "print(model(x).shape)\n",
        "#torch.size[Batch_size, No. tokens (7*7 +1CLS), embedding dimension]"
      ],
      "metadata": {
        "colab": {
          "base_uri": "https://localhost:8080/"
        },
        "id": "sagYkCxF6_gB",
        "outputId": "58105461-f20f-4794-f37b-ce6c7781458e"
      },
      "execution_count": null,
      "outputs": [
        {
          "output_type": "stream",
          "name": "stdout",
          "text": [
            "torch.Size([512, 50, 16])\n"
          ]
        }
      ]
    },
    {
      "cell_type": "code",
      "source": [
        "class MultiHeadAttention(nn.Module):\n",
        "    \"\"\"\n",
        "    Clase que implementa la atención multi-cabeza.\n",
        "\n",
        "    Divide la entrada en múltiples cabezas para realizar la atención en paralelo.\n",
        "    \"\"\"\n",
        "    def __init__(self, dim, heads=8, dropout=0.1):\n",
        "\n",
        "        super(MultiHeadAttention, self).__init__()\n",
        "        self.heads = heads\n",
        "        self.scale = dim ** -0.5\n",
        "        self.to_qkv = nn.Linear(dim, dim * 3, bias=False)\n",
        "        self.to_out = nn.Sequential(\n",
        "            nn.Linear(dim, dim),\n",
        "            nn.Dropout(dropout)\n",
        "        )\n",
        "\n",
        "    def forward(self, x):\n",
        "        b, n, _, h = *x.shape, self.heads\n",
        "        qkv = self.to_qkv(x).chunk(3, dim=-1)\n",
        "        queries, keys, values = map(lambda t: t.reshape(b, n, h, -1).transpose(1, 2), qkv)\n",
        "        scores = torch.einsum('bhid,bhjd->bhij', queries, keys) * self.scale\n",
        "        attn = scores.softmax(dim=-1)\n",
        "        out = torch.einsum('bhij,bhjd->bhid', attn, values).transpose(1, 2).reshape(b, n, -1)\n",
        "        return self.to_out(out)\n",
        "\n"
      ],
      "metadata": {
        "id": "CYGi0MR_0Y2d"
      },
      "execution_count": null,
      "outputs": []
    },
    {
      "cell_type": "markdown",
      "source": [
        "##Modelo Visual Transformer"
      ],
      "metadata": {
        "id": "lIXj9ODXM3Ao"
      }
    },
    {
      "cell_type": "code",
      "source": [
        "class ViT(nn.Module):\n",
        "  \"\"\"\n",
        "  Clase que implementa el modelo Vision Transformer (ViT).\n",
        "\n",
        "  Combina Patch Embedding, capas de Transformer Encoder y una cabeza MLP para la clasificación.\n",
        "  \"\"\"\n",
        "\n",
        "  def __init__(self, num_patches, num_classes, patch_size, embedding_dimension, num_encoders, num_heads, hidden_dimension, dropout, activation, input_channels):\n",
        "    super().__init__()\n",
        "    \"\"\"\n",
        "        Inicializa la clase ViT.\n",
        "\n",
        "        Args:\n",
        "            num_patches (int): Número total de parches en la imagen.\n",
        "            num_classes (int): Número de clases para la clasificación.\n",
        "            patch_size (int): Tamaño del parche (lado del cuadrado).\n",
        "            embedding_dimension (int): Dimensión del embedding para cada parche.\n",
        "            num_encoders (int): Número de capas de Transformer Encoder.\n",
        "            num_heads (int): Número de cabezas de atención en cada capa de Transformer Encoder.\n",
        "            hidden_dimension (int): Dimensión de la capa oculta en la cabeza MLP.\n",
        "            dropout (float): Probabilidad de dropout.\n",
        "            activation (str): Función de activación a utilizar en las capas de Transformer Encoder.\n",
        "            input_channels (int): Número de canales de entrada de la imagen.\n",
        "    \"\"\"\n",
        "    self.embeddings_block = PatchEmbedding(\n",
        "        embedding_dimension,\n",
        "        patch_size,\n",
        "        num_patches,\n",
        "        dropout,\n",
        "        input_channels\n",
        "    )\n",
        "    encoder_layer = nn.TransformerEncoderLayer(d_model = embedding_dimension, nhead = num_heads, dropout = dropout, activation = activation, batch_first=True, norm_first=True)\n",
        "\n",
        "    self.encoder_blocks = nn.TransformerEncoder(encoder_layer, num_layers =num_encoders)\n",
        "\n",
        "        # Nueva capa de atención adicional (añadida después de encoder_blocks)\n",
        "    self.additional_attention = nn.MultiheadAttention(\n",
        "            embed_dim=embedding_dimension,\n",
        "            num_heads=num_heads,\n",
        "            dropout=dropout,\n",
        "            batch_first=True\n",
        "        )\n",
        "\n",
        "    self.mlp_head = nn.Sequential(\n",
        "        nn.LayerNorm(normalized_shape=embedding_dimension),\n",
        "        nn.Linear(in_features=embedding_dimension, out_features=num_classes),\n",
        "    )\n",
        "  def forward(self, x):\n",
        "    x = self.embeddings_block(x)\n",
        "    x = self.encoder_blocks(x)\n",
        "    x = self.mlp_head(x[:, 0, :])\n",
        "    return x"
      ],
      "metadata": {
        "id": "MEjvqvA-611d"
      },
      "execution_count": null,
      "outputs": []
    },
    {
      "cell_type": "code",
      "source": [
        "model = ViT(\n",
        "    num_patches,\n",
        "    n_classes,\n",
        "    patch_size,\n",
        "    embedding_dimension,\n",
        "    num_encoders,\n",
        "    num_heads,\n",
        "    hidden_dimension,\n",
        "    dropout,\n",
        "    activation,\n",
        "    input_channels\n",
        ")\n",
        "x = torch.randn(512, 1, 28, 28)\n",
        "print(model(x).shape)"
      ],
      "metadata": {
        "colab": {
          "base_uri": "https://localhost:8080/"
        },
        "id": "1Km0a9df_Umd",
        "outputId": "fbe607f8-b389-4b2a-c44f-3771515cdad8"
      },
      "execution_count": null,
      "outputs": [
        {
          "output_type": "stream",
          "name": "stderr",
          "text": [
            "/usr/local/lib/python3.10/dist-packages/torch/nn/modules/transformer.py:307: UserWarning: enable_nested_tensor is True, but self.use_nested_tensor is False because encoder_layer.norm_first was True\n",
            "  warnings.warn(f\"enable_nested_tensor is True, but self.use_nested_tensor is False because {why_not_sparsity_fast_path}\")\n"
          ]
        },
        {
          "output_type": "stream",
          "name": "stdout",
          "text": [
            "torch.Size([512, 10])\n"
          ]
        }
      ]
    },
    {
      "cell_type": "markdown",
      "source": [
        "#Implementación"
      ],
      "metadata": {
        "id": "ERLspj3qM6Rz"
      }
    },
    {
      "cell_type": "code",
      "source": [
        "path = kagglehub.dataset_download(\"zalando-research/fashionmnist\")\n",
        "print(\"Path to dataset files:\", path)"
      ],
      "metadata": {
        "colab": {
          "base_uri": "https://localhost:8080/"
        },
        "id": "BpCi25usREM2",
        "outputId": "dec35d03-17d6-4fba-de06-ef75138d11cd"
      },
      "execution_count": null,
      "outputs": [
        {
          "output_type": "stream",
          "name": "stdout",
          "text": [
            "Warning: Looks like you're using an outdated `kagglehub` version, please consider updating (latest version: 0.3.3)\n",
            "Downloading from https://www.kaggle.com/api/v1/datasets/download/zalando-research/fashionmnist?dataset_version_number=4...\n"
          ]
        },
        {
          "output_type": "stream",
          "name": "stderr",
          "text": [
            "100%|██████████| 68.8M/68.8M [00:02<00:00, 28.0MB/s]"
          ]
        },
        {
          "output_type": "stream",
          "name": "stdout",
          "text": [
            "Extracting files...\n"
          ]
        },
        {
          "output_type": "stream",
          "name": "stderr",
          "text": [
            "\n"
          ]
        },
        {
          "output_type": "stream",
          "name": "stdout",
          "text": [
            "Path to dataset files: /root/.cache/kagglehub/datasets/zalando-research/fashionmnist/versions/4\n"
          ]
        }
      ]
    },
    {
      "cell_type": "code",
      "source": [
        "train_df = pd.read_csv(path + '/fashion-mnist_train.csv')\n",
        "test_df = pd.read_csv(path + '/fashion-mnist_test.csv')"
      ],
      "metadata": {
        "id": "fbFCEAlbR7Kq"
      },
      "execution_count": null,
      "outputs": []
    },
    {
      "cell_type": "code",
      "source": [
        "train_df.head() #Se observa que hay etiquetas"
      ],
      "metadata": {
        "colab": {
          "base_uri": "https://localhost:8080/",
          "height": 235
        },
        "id": "6mj95sWrUWaY",
        "outputId": "1cd28929-a253-4d1f-d9bc-c3c08bd45aa7"
      },
      "execution_count": null,
      "outputs": [
        {
          "output_type": "execute_result",
          "data": {
            "text/plain": [
              "   label  pixel1  pixel2  pixel3  pixel4  pixel5  pixel6  pixel7  pixel8  \\\n",
              "0      2       0       0       0       0       0       0       0       0   \n",
              "1      9       0       0       0       0       0       0       0       0   \n",
              "2      6       0       0       0       0       0       0       0       5   \n",
              "3      0       0       0       0       1       2       0       0       0   \n",
              "4      3       0       0       0       0       0       0       0       0   \n",
              "\n",
              "   pixel9  ...  pixel775  pixel776  pixel777  pixel778  pixel779  pixel780  \\\n",
              "0       0  ...         0         0         0         0         0         0   \n",
              "1       0  ...         0         0         0         0         0         0   \n",
              "2       0  ...         0         0         0        30        43         0   \n",
              "3       0  ...         3         0         0         0         0         1   \n",
              "4       0  ...         0         0         0         0         0         0   \n",
              "\n",
              "   pixel781  pixel782  pixel783  pixel784  \n",
              "0         0         0         0         0  \n",
              "1         0         0         0         0  \n",
              "2         0         0         0         0  \n",
              "3         0         0         0         0  \n",
              "4         0         0         0         0  \n",
              "\n",
              "[5 rows x 785 columns]"
            ],
            "text/html": [
              "\n",
              "  <div id=\"df-384b12e2-aa55-40c4-8b27-95c1dbd551da\" class=\"colab-df-container\">\n",
              "    <div>\n",
              "<style scoped>\n",
              "    .dataframe tbody tr th:only-of-type {\n",
              "        vertical-align: middle;\n",
              "    }\n",
              "\n",
              "    .dataframe tbody tr th {\n",
              "        vertical-align: top;\n",
              "    }\n",
              "\n",
              "    .dataframe thead th {\n",
              "        text-align: right;\n",
              "    }\n",
              "</style>\n",
              "<table border=\"1\" class=\"dataframe\">\n",
              "  <thead>\n",
              "    <tr style=\"text-align: right;\">\n",
              "      <th></th>\n",
              "      <th>label</th>\n",
              "      <th>pixel1</th>\n",
              "      <th>pixel2</th>\n",
              "      <th>pixel3</th>\n",
              "      <th>pixel4</th>\n",
              "      <th>pixel5</th>\n",
              "      <th>pixel6</th>\n",
              "      <th>pixel7</th>\n",
              "      <th>pixel8</th>\n",
              "      <th>pixel9</th>\n",
              "      <th>...</th>\n",
              "      <th>pixel775</th>\n",
              "      <th>pixel776</th>\n",
              "      <th>pixel777</th>\n",
              "      <th>pixel778</th>\n",
              "      <th>pixel779</th>\n",
              "      <th>pixel780</th>\n",
              "      <th>pixel781</th>\n",
              "      <th>pixel782</th>\n",
              "      <th>pixel783</th>\n",
              "      <th>pixel784</th>\n",
              "    </tr>\n",
              "  </thead>\n",
              "  <tbody>\n",
              "    <tr>\n",
              "      <th>0</th>\n",
              "      <td>2</td>\n",
              "      <td>0</td>\n",
              "      <td>0</td>\n",
              "      <td>0</td>\n",
              "      <td>0</td>\n",
              "      <td>0</td>\n",
              "      <td>0</td>\n",
              "      <td>0</td>\n",
              "      <td>0</td>\n",
              "      <td>0</td>\n",
              "      <td>...</td>\n",
              "      <td>0</td>\n",
              "      <td>0</td>\n",
              "      <td>0</td>\n",
              "      <td>0</td>\n",
              "      <td>0</td>\n",
              "      <td>0</td>\n",
              "      <td>0</td>\n",
              "      <td>0</td>\n",
              "      <td>0</td>\n",
              "      <td>0</td>\n",
              "    </tr>\n",
              "    <tr>\n",
              "      <th>1</th>\n",
              "      <td>9</td>\n",
              "      <td>0</td>\n",
              "      <td>0</td>\n",
              "      <td>0</td>\n",
              "      <td>0</td>\n",
              "      <td>0</td>\n",
              "      <td>0</td>\n",
              "      <td>0</td>\n",
              "      <td>0</td>\n",
              "      <td>0</td>\n",
              "      <td>...</td>\n",
              "      <td>0</td>\n",
              "      <td>0</td>\n",
              "      <td>0</td>\n",
              "      <td>0</td>\n",
              "      <td>0</td>\n",
              "      <td>0</td>\n",
              "      <td>0</td>\n",
              "      <td>0</td>\n",
              "      <td>0</td>\n",
              "      <td>0</td>\n",
              "    </tr>\n",
              "    <tr>\n",
              "      <th>2</th>\n",
              "      <td>6</td>\n",
              "      <td>0</td>\n",
              "      <td>0</td>\n",
              "      <td>0</td>\n",
              "      <td>0</td>\n",
              "      <td>0</td>\n",
              "      <td>0</td>\n",
              "      <td>0</td>\n",
              "      <td>5</td>\n",
              "      <td>0</td>\n",
              "      <td>...</td>\n",
              "      <td>0</td>\n",
              "      <td>0</td>\n",
              "      <td>0</td>\n",
              "      <td>30</td>\n",
              "      <td>43</td>\n",
              "      <td>0</td>\n",
              "      <td>0</td>\n",
              "      <td>0</td>\n",
              "      <td>0</td>\n",
              "      <td>0</td>\n",
              "    </tr>\n",
              "    <tr>\n",
              "      <th>3</th>\n",
              "      <td>0</td>\n",
              "      <td>0</td>\n",
              "      <td>0</td>\n",
              "      <td>0</td>\n",
              "      <td>1</td>\n",
              "      <td>2</td>\n",
              "      <td>0</td>\n",
              "      <td>0</td>\n",
              "      <td>0</td>\n",
              "      <td>0</td>\n",
              "      <td>...</td>\n",
              "      <td>3</td>\n",
              "      <td>0</td>\n",
              "      <td>0</td>\n",
              "      <td>0</td>\n",
              "      <td>0</td>\n",
              "      <td>1</td>\n",
              "      <td>0</td>\n",
              "      <td>0</td>\n",
              "      <td>0</td>\n",
              "      <td>0</td>\n",
              "    </tr>\n",
              "    <tr>\n",
              "      <th>4</th>\n",
              "      <td>3</td>\n",
              "      <td>0</td>\n",
              "      <td>0</td>\n",
              "      <td>0</td>\n",
              "      <td>0</td>\n",
              "      <td>0</td>\n",
              "      <td>0</td>\n",
              "      <td>0</td>\n",
              "      <td>0</td>\n",
              "      <td>0</td>\n",
              "      <td>...</td>\n",
              "      <td>0</td>\n",
              "      <td>0</td>\n",
              "      <td>0</td>\n",
              "      <td>0</td>\n",
              "      <td>0</td>\n",
              "      <td>0</td>\n",
              "      <td>0</td>\n",
              "      <td>0</td>\n",
              "      <td>0</td>\n",
              "      <td>0</td>\n",
              "    </tr>\n",
              "  </tbody>\n",
              "</table>\n",
              "<p>5 rows × 785 columns</p>\n",
              "</div>\n",
              "    <div class=\"colab-df-buttons\">\n",
              "\n",
              "  <div class=\"colab-df-container\">\n",
              "    <button class=\"colab-df-convert\" onclick=\"convertToInteractive('df-384b12e2-aa55-40c4-8b27-95c1dbd551da')\"\n",
              "            title=\"Convert this dataframe to an interactive table.\"\n",
              "            style=\"display:none;\">\n",
              "\n",
              "  <svg xmlns=\"http://www.w3.org/2000/svg\" height=\"24px\" viewBox=\"0 -960 960 960\">\n",
              "    <path d=\"M120-120v-720h720v720H120Zm60-500h600v-160H180v160Zm220 220h160v-160H400v160Zm0 220h160v-160H400v160ZM180-400h160v-160H180v160Zm440 0h160v-160H620v160ZM180-180h160v-160H180v160Zm440 0h160v-160H620v160Z\"/>\n",
              "  </svg>\n",
              "    </button>\n",
              "\n",
              "  <style>\n",
              "    .colab-df-container {\n",
              "      display:flex;\n",
              "      gap: 12px;\n",
              "    }\n",
              "\n",
              "    .colab-df-convert {\n",
              "      background-color: #E8F0FE;\n",
              "      border: none;\n",
              "      border-radius: 50%;\n",
              "      cursor: pointer;\n",
              "      display: none;\n",
              "      fill: #1967D2;\n",
              "      height: 32px;\n",
              "      padding: 0 0 0 0;\n",
              "      width: 32px;\n",
              "    }\n",
              "\n",
              "    .colab-df-convert:hover {\n",
              "      background-color: #E2EBFA;\n",
              "      box-shadow: 0px 1px 2px rgba(60, 64, 67, 0.3), 0px 1px 3px 1px rgba(60, 64, 67, 0.15);\n",
              "      fill: #174EA6;\n",
              "    }\n",
              "\n",
              "    .colab-df-buttons div {\n",
              "      margin-bottom: 4px;\n",
              "    }\n",
              "\n",
              "    [theme=dark] .colab-df-convert {\n",
              "      background-color: #3B4455;\n",
              "      fill: #D2E3FC;\n",
              "    }\n",
              "\n",
              "    [theme=dark] .colab-df-convert:hover {\n",
              "      background-color: #434B5C;\n",
              "      box-shadow: 0px 1px 3px 1px rgba(0, 0, 0, 0.15);\n",
              "      filter: drop-shadow(0px 1px 2px rgba(0, 0, 0, 0.3));\n",
              "      fill: #FFFFFF;\n",
              "    }\n",
              "  </style>\n",
              "\n",
              "    <script>\n",
              "      const buttonEl =\n",
              "        document.querySelector('#df-384b12e2-aa55-40c4-8b27-95c1dbd551da button.colab-df-convert');\n",
              "      buttonEl.style.display =\n",
              "        google.colab.kernel.accessAllowed ? 'block' : 'none';\n",
              "\n",
              "      async function convertToInteractive(key) {\n",
              "        const element = document.querySelector('#df-384b12e2-aa55-40c4-8b27-95c1dbd551da');\n",
              "        const dataTable =\n",
              "          await google.colab.kernel.invokeFunction('convertToInteractive',\n",
              "                                                    [key], {});\n",
              "        if (!dataTable) return;\n",
              "\n",
              "        const docLinkHtml = 'Like what you see? Visit the ' +\n",
              "          '<a target=\"_blank\" href=https://colab.research.google.com/notebooks/data_table.ipynb>data table notebook</a>'\n",
              "          + ' to learn more about interactive tables.';\n",
              "        element.innerHTML = '';\n",
              "        dataTable['output_type'] = 'display_data';\n",
              "        await google.colab.output.renderOutput(dataTable, element);\n",
              "        const docLink = document.createElement('div');\n",
              "        docLink.innerHTML = docLinkHtml;\n",
              "        element.appendChild(docLink);\n",
              "      }\n",
              "    </script>\n",
              "  </div>\n",
              "\n",
              "\n",
              "<div id=\"df-008eefa9-0885-466a-9298-09c10ea0020c\">\n",
              "  <button class=\"colab-df-quickchart\" onclick=\"quickchart('df-008eefa9-0885-466a-9298-09c10ea0020c')\"\n",
              "            title=\"Suggest charts\"\n",
              "            style=\"display:none;\">\n",
              "\n",
              "<svg xmlns=\"http://www.w3.org/2000/svg\" height=\"24px\"viewBox=\"0 0 24 24\"\n",
              "     width=\"24px\">\n",
              "    <g>\n",
              "        <path d=\"M19 3H5c-1.1 0-2 .9-2 2v14c0 1.1.9 2 2 2h14c1.1 0 2-.9 2-2V5c0-1.1-.9-2-2-2zM9 17H7v-7h2v7zm4 0h-2V7h2v10zm4 0h-2v-4h2v4z\"/>\n",
              "    </g>\n",
              "</svg>\n",
              "  </button>\n",
              "\n",
              "<style>\n",
              "  .colab-df-quickchart {\n",
              "      --bg-color: #E8F0FE;\n",
              "      --fill-color: #1967D2;\n",
              "      --hover-bg-color: #E2EBFA;\n",
              "      --hover-fill-color: #174EA6;\n",
              "      --disabled-fill-color: #AAA;\n",
              "      --disabled-bg-color: #DDD;\n",
              "  }\n",
              "\n",
              "  [theme=dark] .colab-df-quickchart {\n",
              "      --bg-color: #3B4455;\n",
              "      --fill-color: #D2E3FC;\n",
              "      --hover-bg-color: #434B5C;\n",
              "      --hover-fill-color: #FFFFFF;\n",
              "      --disabled-bg-color: #3B4455;\n",
              "      --disabled-fill-color: #666;\n",
              "  }\n",
              "\n",
              "  .colab-df-quickchart {\n",
              "    background-color: var(--bg-color);\n",
              "    border: none;\n",
              "    border-radius: 50%;\n",
              "    cursor: pointer;\n",
              "    display: none;\n",
              "    fill: var(--fill-color);\n",
              "    height: 32px;\n",
              "    padding: 0;\n",
              "    width: 32px;\n",
              "  }\n",
              "\n",
              "  .colab-df-quickchart:hover {\n",
              "    background-color: var(--hover-bg-color);\n",
              "    box-shadow: 0 1px 2px rgba(60, 64, 67, 0.3), 0 1px 3px 1px rgba(60, 64, 67, 0.15);\n",
              "    fill: var(--button-hover-fill-color);\n",
              "  }\n",
              "\n",
              "  .colab-df-quickchart-complete:disabled,\n",
              "  .colab-df-quickchart-complete:disabled:hover {\n",
              "    background-color: var(--disabled-bg-color);\n",
              "    fill: var(--disabled-fill-color);\n",
              "    box-shadow: none;\n",
              "  }\n",
              "\n",
              "  .colab-df-spinner {\n",
              "    border: 2px solid var(--fill-color);\n",
              "    border-color: transparent;\n",
              "    border-bottom-color: var(--fill-color);\n",
              "    animation:\n",
              "      spin 1s steps(1) infinite;\n",
              "  }\n",
              "\n",
              "  @keyframes spin {\n",
              "    0% {\n",
              "      border-color: transparent;\n",
              "      border-bottom-color: var(--fill-color);\n",
              "      border-left-color: var(--fill-color);\n",
              "    }\n",
              "    20% {\n",
              "      border-color: transparent;\n",
              "      border-left-color: var(--fill-color);\n",
              "      border-top-color: var(--fill-color);\n",
              "    }\n",
              "    30% {\n",
              "      border-color: transparent;\n",
              "      border-left-color: var(--fill-color);\n",
              "      border-top-color: var(--fill-color);\n",
              "      border-right-color: var(--fill-color);\n",
              "    }\n",
              "    40% {\n",
              "      border-color: transparent;\n",
              "      border-right-color: var(--fill-color);\n",
              "      border-top-color: var(--fill-color);\n",
              "    }\n",
              "    60% {\n",
              "      border-color: transparent;\n",
              "      border-right-color: var(--fill-color);\n",
              "    }\n",
              "    80% {\n",
              "      border-color: transparent;\n",
              "      border-right-color: var(--fill-color);\n",
              "      border-bottom-color: var(--fill-color);\n",
              "    }\n",
              "    90% {\n",
              "      border-color: transparent;\n",
              "      border-bottom-color: var(--fill-color);\n",
              "    }\n",
              "  }\n",
              "</style>\n",
              "\n",
              "  <script>\n",
              "    async function quickchart(key) {\n",
              "      const quickchartButtonEl =\n",
              "        document.querySelector('#' + key + ' button');\n",
              "      quickchartButtonEl.disabled = true;  // To prevent multiple clicks.\n",
              "      quickchartButtonEl.classList.add('colab-df-spinner');\n",
              "      try {\n",
              "        const charts = await google.colab.kernel.invokeFunction(\n",
              "            'suggestCharts', [key], {});\n",
              "      } catch (error) {\n",
              "        console.error('Error during call to suggestCharts:', error);\n",
              "      }\n",
              "      quickchartButtonEl.classList.remove('colab-df-spinner');\n",
              "      quickchartButtonEl.classList.add('colab-df-quickchart-complete');\n",
              "    }\n",
              "    (() => {\n",
              "      let quickchartButtonEl =\n",
              "        document.querySelector('#df-008eefa9-0885-466a-9298-09c10ea0020c button');\n",
              "      quickchartButtonEl.style.display =\n",
              "        google.colab.kernel.accessAllowed ? 'block' : 'none';\n",
              "    })();\n",
              "  </script>\n",
              "</div>\n",
              "\n",
              "    </div>\n",
              "  </div>\n"
            ],
            "application/vnd.google.colaboratory.intrinsic+json": {
              "type": "dataframe",
              "variable_name": "train_df"
            }
          },
          "metadata": {},
          "execution_count": 10
        }
      ]
    },
    {
      "cell_type": "code",
      "source": [
        "test_df.head() #Se observa que no hay etiquetas"
      ],
      "metadata": {
        "colab": {
          "base_uri": "https://localhost:8080/",
          "height": 235
        },
        "id": "7LNBWSeXVgrT",
        "outputId": "540ff77e-48e1-4eb9-cf63-63613f30b089"
      },
      "execution_count": null,
      "outputs": [
        {
          "output_type": "execute_result",
          "data": {
            "text/plain": [
              "   label  pixel1  pixel2  pixel3  pixel4  pixel5  pixel6  pixel7  pixel8  \\\n",
              "0      0       0       0       0       0       0       0       0       9   \n",
              "1      1       0       0       0       0       0       0       0       0   \n",
              "2      2       0       0       0       0       0       0      14      53   \n",
              "3      2       0       0       0       0       0       0       0       0   \n",
              "4      3       0       0       0       0       0       0       0       0   \n",
              "\n",
              "   pixel9  ...  pixel775  pixel776  pixel777  pixel778  pixel779  pixel780  \\\n",
              "0       8  ...       103        87        56         0         0         0   \n",
              "1       0  ...        34         0         0         0         0         0   \n",
              "2      99  ...         0         0         0         0        63        53   \n",
              "3       0  ...       137       126       140         0       133       224   \n",
              "4       0  ...         0         0         0         0         0         0   \n",
              "\n",
              "   pixel781  pixel782  pixel783  pixel784  \n",
              "0         0         0         0         0  \n",
              "1         0         0         0         0  \n",
              "2        31         0         0         0  \n",
              "3       222        56         0         0  \n",
              "4         0         0         0         0  \n",
              "\n",
              "[5 rows x 785 columns]"
            ],
            "text/html": [
              "\n",
              "  <div id=\"df-64c87f23-6d1d-4155-91a1-739e844f64b6\" class=\"colab-df-container\">\n",
              "    <div>\n",
              "<style scoped>\n",
              "    .dataframe tbody tr th:only-of-type {\n",
              "        vertical-align: middle;\n",
              "    }\n",
              "\n",
              "    .dataframe tbody tr th {\n",
              "        vertical-align: top;\n",
              "    }\n",
              "\n",
              "    .dataframe thead th {\n",
              "        text-align: right;\n",
              "    }\n",
              "</style>\n",
              "<table border=\"1\" class=\"dataframe\">\n",
              "  <thead>\n",
              "    <tr style=\"text-align: right;\">\n",
              "      <th></th>\n",
              "      <th>label</th>\n",
              "      <th>pixel1</th>\n",
              "      <th>pixel2</th>\n",
              "      <th>pixel3</th>\n",
              "      <th>pixel4</th>\n",
              "      <th>pixel5</th>\n",
              "      <th>pixel6</th>\n",
              "      <th>pixel7</th>\n",
              "      <th>pixel8</th>\n",
              "      <th>pixel9</th>\n",
              "      <th>...</th>\n",
              "      <th>pixel775</th>\n",
              "      <th>pixel776</th>\n",
              "      <th>pixel777</th>\n",
              "      <th>pixel778</th>\n",
              "      <th>pixel779</th>\n",
              "      <th>pixel780</th>\n",
              "      <th>pixel781</th>\n",
              "      <th>pixel782</th>\n",
              "      <th>pixel783</th>\n",
              "      <th>pixel784</th>\n",
              "    </tr>\n",
              "  </thead>\n",
              "  <tbody>\n",
              "    <tr>\n",
              "      <th>0</th>\n",
              "      <td>0</td>\n",
              "      <td>0</td>\n",
              "      <td>0</td>\n",
              "      <td>0</td>\n",
              "      <td>0</td>\n",
              "      <td>0</td>\n",
              "      <td>0</td>\n",
              "      <td>0</td>\n",
              "      <td>9</td>\n",
              "      <td>8</td>\n",
              "      <td>...</td>\n",
              "      <td>103</td>\n",
              "      <td>87</td>\n",
              "      <td>56</td>\n",
              "      <td>0</td>\n",
              "      <td>0</td>\n",
              "      <td>0</td>\n",
              "      <td>0</td>\n",
              "      <td>0</td>\n",
              "      <td>0</td>\n",
              "      <td>0</td>\n",
              "    </tr>\n",
              "    <tr>\n",
              "      <th>1</th>\n",
              "      <td>1</td>\n",
              "      <td>0</td>\n",
              "      <td>0</td>\n",
              "      <td>0</td>\n",
              "      <td>0</td>\n",
              "      <td>0</td>\n",
              "      <td>0</td>\n",
              "      <td>0</td>\n",
              "      <td>0</td>\n",
              "      <td>0</td>\n",
              "      <td>...</td>\n",
              "      <td>34</td>\n",
              "      <td>0</td>\n",
              "      <td>0</td>\n",
              "      <td>0</td>\n",
              "      <td>0</td>\n",
              "      <td>0</td>\n",
              "      <td>0</td>\n",
              "      <td>0</td>\n",
              "      <td>0</td>\n",
              "      <td>0</td>\n",
              "    </tr>\n",
              "    <tr>\n",
              "      <th>2</th>\n",
              "      <td>2</td>\n",
              "      <td>0</td>\n",
              "      <td>0</td>\n",
              "      <td>0</td>\n",
              "      <td>0</td>\n",
              "      <td>0</td>\n",
              "      <td>0</td>\n",
              "      <td>14</td>\n",
              "      <td>53</td>\n",
              "      <td>99</td>\n",
              "      <td>...</td>\n",
              "      <td>0</td>\n",
              "      <td>0</td>\n",
              "      <td>0</td>\n",
              "      <td>0</td>\n",
              "      <td>63</td>\n",
              "      <td>53</td>\n",
              "      <td>31</td>\n",
              "      <td>0</td>\n",
              "      <td>0</td>\n",
              "      <td>0</td>\n",
              "    </tr>\n",
              "    <tr>\n",
              "      <th>3</th>\n",
              "      <td>2</td>\n",
              "      <td>0</td>\n",
              "      <td>0</td>\n",
              "      <td>0</td>\n",
              "      <td>0</td>\n",
              "      <td>0</td>\n",
              "      <td>0</td>\n",
              "      <td>0</td>\n",
              "      <td>0</td>\n",
              "      <td>0</td>\n",
              "      <td>...</td>\n",
              "      <td>137</td>\n",
              "      <td>126</td>\n",
              "      <td>140</td>\n",
              "      <td>0</td>\n",
              "      <td>133</td>\n",
              "      <td>224</td>\n",
              "      <td>222</td>\n",
              "      <td>56</td>\n",
              "      <td>0</td>\n",
              "      <td>0</td>\n",
              "    </tr>\n",
              "    <tr>\n",
              "      <th>4</th>\n",
              "      <td>3</td>\n",
              "      <td>0</td>\n",
              "      <td>0</td>\n",
              "      <td>0</td>\n",
              "      <td>0</td>\n",
              "      <td>0</td>\n",
              "      <td>0</td>\n",
              "      <td>0</td>\n",
              "      <td>0</td>\n",
              "      <td>0</td>\n",
              "      <td>...</td>\n",
              "      <td>0</td>\n",
              "      <td>0</td>\n",
              "      <td>0</td>\n",
              "      <td>0</td>\n",
              "      <td>0</td>\n",
              "      <td>0</td>\n",
              "      <td>0</td>\n",
              "      <td>0</td>\n",
              "      <td>0</td>\n",
              "      <td>0</td>\n",
              "    </tr>\n",
              "  </tbody>\n",
              "</table>\n",
              "<p>5 rows × 785 columns</p>\n",
              "</div>\n",
              "    <div class=\"colab-df-buttons\">\n",
              "\n",
              "  <div class=\"colab-df-container\">\n",
              "    <button class=\"colab-df-convert\" onclick=\"convertToInteractive('df-64c87f23-6d1d-4155-91a1-739e844f64b6')\"\n",
              "            title=\"Convert this dataframe to an interactive table.\"\n",
              "            style=\"display:none;\">\n",
              "\n",
              "  <svg xmlns=\"http://www.w3.org/2000/svg\" height=\"24px\" viewBox=\"0 -960 960 960\">\n",
              "    <path d=\"M120-120v-720h720v720H120Zm60-500h600v-160H180v160Zm220 220h160v-160H400v160Zm0 220h160v-160H400v160ZM180-400h160v-160H180v160Zm440 0h160v-160H620v160ZM180-180h160v-160H180v160Zm440 0h160v-160H620v160Z\"/>\n",
              "  </svg>\n",
              "    </button>\n",
              "\n",
              "  <style>\n",
              "    .colab-df-container {\n",
              "      display:flex;\n",
              "      gap: 12px;\n",
              "    }\n",
              "\n",
              "    .colab-df-convert {\n",
              "      background-color: #E8F0FE;\n",
              "      border: none;\n",
              "      border-radius: 50%;\n",
              "      cursor: pointer;\n",
              "      display: none;\n",
              "      fill: #1967D2;\n",
              "      height: 32px;\n",
              "      padding: 0 0 0 0;\n",
              "      width: 32px;\n",
              "    }\n",
              "\n",
              "    .colab-df-convert:hover {\n",
              "      background-color: #E2EBFA;\n",
              "      box-shadow: 0px 1px 2px rgba(60, 64, 67, 0.3), 0px 1px 3px 1px rgba(60, 64, 67, 0.15);\n",
              "      fill: #174EA6;\n",
              "    }\n",
              "\n",
              "    .colab-df-buttons div {\n",
              "      margin-bottom: 4px;\n",
              "    }\n",
              "\n",
              "    [theme=dark] .colab-df-convert {\n",
              "      background-color: #3B4455;\n",
              "      fill: #D2E3FC;\n",
              "    }\n",
              "\n",
              "    [theme=dark] .colab-df-convert:hover {\n",
              "      background-color: #434B5C;\n",
              "      box-shadow: 0px 1px 3px 1px rgba(0, 0, 0, 0.15);\n",
              "      filter: drop-shadow(0px 1px 2px rgba(0, 0, 0, 0.3));\n",
              "      fill: #FFFFFF;\n",
              "    }\n",
              "  </style>\n",
              "\n",
              "    <script>\n",
              "      const buttonEl =\n",
              "        document.querySelector('#df-64c87f23-6d1d-4155-91a1-739e844f64b6 button.colab-df-convert');\n",
              "      buttonEl.style.display =\n",
              "        google.colab.kernel.accessAllowed ? 'block' : 'none';\n",
              "\n",
              "      async function convertToInteractive(key) {\n",
              "        const element = document.querySelector('#df-64c87f23-6d1d-4155-91a1-739e844f64b6');\n",
              "        const dataTable =\n",
              "          await google.colab.kernel.invokeFunction('convertToInteractive',\n",
              "                                                    [key], {});\n",
              "        if (!dataTable) return;\n",
              "\n",
              "        const docLinkHtml = 'Like what you see? Visit the ' +\n",
              "          '<a target=\"_blank\" href=https://colab.research.google.com/notebooks/data_table.ipynb>data table notebook</a>'\n",
              "          + ' to learn more about interactive tables.';\n",
              "        element.innerHTML = '';\n",
              "        dataTable['output_type'] = 'display_data';\n",
              "        await google.colab.output.renderOutput(dataTable, element);\n",
              "        const docLink = document.createElement('div');\n",
              "        docLink.innerHTML = docLinkHtml;\n",
              "        element.appendChild(docLink);\n",
              "      }\n",
              "    </script>\n",
              "  </div>\n",
              "\n",
              "\n",
              "<div id=\"df-691e82f3-3ea3-4c13-bb91-a788370cdf16\">\n",
              "  <button class=\"colab-df-quickchart\" onclick=\"quickchart('df-691e82f3-3ea3-4c13-bb91-a788370cdf16')\"\n",
              "            title=\"Suggest charts\"\n",
              "            style=\"display:none;\">\n",
              "\n",
              "<svg xmlns=\"http://www.w3.org/2000/svg\" height=\"24px\"viewBox=\"0 0 24 24\"\n",
              "     width=\"24px\">\n",
              "    <g>\n",
              "        <path d=\"M19 3H5c-1.1 0-2 .9-2 2v14c0 1.1.9 2 2 2h14c1.1 0 2-.9 2-2V5c0-1.1-.9-2-2-2zM9 17H7v-7h2v7zm4 0h-2V7h2v10zm4 0h-2v-4h2v4z\"/>\n",
              "    </g>\n",
              "</svg>\n",
              "  </button>\n",
              "\n",
              "<style>\n",
              "  .colab-df-quickchart {\n",
              "      --bg-color: #E8F0FE;\n",
              "      --fill-color: #1967D2;\n",
              "      --hover-bg-color: #E2EBFA;\n",
              "      --hover-fill-color: #174EA6;\n",
              "      --disabled-fill-color: #AAA;\n",
              "      --disabled-bg-color: #DDD;\n",
              "  }\n",
              "\n",
              "  [theme=dark] .colab-df-quickchart {\n",
              "      --bg-color: #3B4455;\n",
              "      --fill-color: #D2E3FC;\n",
              "      --hover-bg-color: #434B5C;\n",
              "      --hover-fill-color: #FFFFFF;\n",
              "      --disabled-bg-color: #3B4455;\n",
              "      --disabled-fill-color: #666;\n",
              "  }\n",
              "\n",
              "  .colab-df-quickchart {\n",
              "    background-color: var(--bg-color);\n",
              "    border: none;\n",
              "    border-radius: 50%;\n",
              "    cursor: pointer;\n",
              "    display: none;\n",
              "    fill: var(--fill-color);\n",
              "    height: 32px;\n",
              "    padding: 0;\n",
              "    width: 32px;\n",
              "  }\n",
              "\n",
              "  .colab-df-quickchart:hover {\n",
              "    background-color: var(--hover-bg-color);\n",
              "    box-shadow: 0 1px 2px rgba(60, 64, 67, 0.3), 0 1px 3px 1px rgba(60, 64, 67, 0.15);\n",
              "    fill: var(--button-hover-fill-color);\n",
              "  }\n",
              "\n",
              "  .colab-df-quickchart-complete:disabled,\n",
              "  .colab-df-quickchart-complete:disabled:hover {\n",
              "    background-color: var(--disabled-bg-color);\n",
              "    fill: var(--disabled-fill-color);\n",
              "    box-shadow: none;\n",
              "  }\n",
              "\n",
              "  .colab-df-spinner {\n",
              "    border: 2px solid var(--fill-color);\n",
              "    border-color: transparent;\n",
              "    border-bottom-color: var(--fill-color);\n",
              "    animation:\n",
              "      spin 1s steps(1) infinite;\n",
              "  }\n",
              "\n",
              "  @keyframes spin {\n",
              "    0% {\n",
              "      border-color: transparent;\n",
              "      border-bottom-color: var(--fill-color);\n",
              "      border-left-color: var(--fill-color);\n",
              "    }\n",
              "    20% {\n",
              "      border-color: transparent;\n",
              "      border-left-color: var(--fill-color);\n",
              "      border-top-color: var(--fill-color);\n",
              "    }\n",
              "    30% {\n",
              "      border-color: transparent;\n",
              "      border-left-color: var(--fill-color);\n",
              "      border-top-color: var(--fill-color);\n",
              "      border-right-color: var(--fill-color);\n",
              "    }\n",
              "    40% {\n",
              "      border-color: transparent;\n",
              "      border-right-color: var(--fill-color);\n",
              "      border-top-color: var(--fill-color);\n",
              "    }\n",
              "    60% {\n",
              "      border-color: transparent;\n",
              "      border-right-color: var(--fill-color);\n",
              "    }\n",
              "    80% {\n",
              "      border-color: transparent;\n",
              "      border-right-color: var(--fill-color);\n",
              "      border-bottom-color: var(--fill-color);\n",
              "    }\n",
              "    90% {\n",
              "      border-color: transparent;\n",
              "      border-bottom-color: var(--fill-color);\n",
              "    }\n",
              "  }\n",
              "</style>\n",
              "\n",
              "  <script>\n",
              "    async function quickchart(key) {\n",
              "      const quickchartButtonEl =\n",
              "        document.querySelector('#' + key + ' button');\n",
              "      quickchartButtonEl.disabled = true;  // To prevent multiple clicks.\n",
              "      quickchartButtonEl.classList.add('colab-df-spinner');\n",
              "      try {\n",
              "        const charts = await google.colab.kernel.invokeFunction(\n",
              "            'suggestCharts', [key], {});\n",
              "      } catch (error) {\n",
              "        console.error('Error during call to suggestCharts:', error);\n",
              "      }\n",
              "      quickchartButtonEl.classList.remove('colab-df-spinner');\n",
              "      quickchartButtonEl.classList.add('colab-df-quickchart-complete');\n",
              "    }\n",
              "    (() => {\n",
              "      let quickchartButtonEl =\n",
              "        document.querySelector('#df-691e82f3-3ea3-4c13-bb91-a788370cdf16 button');\n",
              "      quickchartButtonEl.style.display =\n",
              "        google.colab.kernel.accessAllowed ? 'block' : 'none';\n",
              "    })();\n",
              "  </script>\n",
              "</div>\n",
              "\n",
              "    </div>\n",
              "  </div>\n"
            ],
            "application/vnd.google.colaboratory.intrinsic+json": {
              "type": "dataframe",
              "variable_name": "test_df"
            }
          },
          "metadata": {},
          "execution_count": 11
        }
      ]
    },
    {
      "cell_type": "code",
      "source": [
        "train_df.shape, test_df.shape"
      ],
      "metadata": {
        "colab": {
          "base_uri": "https://localhost:8080/"
        },
        "id": "MmYxlsw6V7tG",
        "outputId": "95e7458c-9834-45fb-dcd8-cff615063dc2"
      },
      "execution_count": null,
      "outputs": [
        {
          "output_type": "execute_result",
          "data": {
            "text/plain": [
              "((60000, 785), (10000, 785))"
            ]
          },
          "metadata": {},
          "execution_count": 12
        }
      ]
    },
    {
      "cell_type": "code",
      "source": [
        "#Se realiza un split en el conjunto de entrenamiento para obtner un conjunto de validación.\n",
        "train_df, val_df = train_test_split(train_df, test_size=0.2, random_state=random_seed, shuffle = True)\n"
      ],
      "metadata": {
        "id": "6VkBdi2HWKbG"
      },
      "execution_count": null,
      "outputs": []
    },
    {
      "cell_type": "markdown",
      "source": [
        "###Preparación de los datos"
      ],
      "metadata": {
        "id": "8tQa14VZNH6O"
      }
    },
    {
      "cell_type": "code",
      "source": [
        "\n",
        "class FMNIST_TrainDataset(Dataset):\n",
        "  def __init__(self, images, labels, indicies):\n",
        "    self.images = images\n",
        "    self.labels = labels\n",
        "    self.indicies = indicies\n",
        "    self.transform = transforms.Compose([\n",
        "        transforms.ToPILImage(),\n",
        "        transforms.RandomRotation(10),\n",
        "        transforms.ToTensor(),\n",
        "        transforms.Normalize([0.5],[0.5])\n",
        "        #Se pueden implementar posteriormente otras técnicas de data augmentation más robustas\n",
        "    ])\n",
        "  def __len__(self):\n",
        "    return len(self.images)\n",
        "\n",
        "  def __getitem__(self, idx):\n",
        "    image = self.images[idx].reshape(28,28).astype(np.uint8)\n",
        "    label = self.labels[idx]\n",
        "    index = self.indicies[idx]\n",
        "    image = self.transform(image)\n",
        "    return {'image':image, 'label':label, 'index':index}"
      ],
      "metadata": {
        "id": "5lQTk3FdWV-f"
      },
      "execution_count": null,
      "outputs": []
    },
    {
      "cell_type": "code",
      "source": [
        "class FMNIST_ValDataset(Dataset):\n",
        "  def __init__(self, images, labels, indicies):\n",
        "    self.images = images\n",
        "    self.labels = labels\n",
        "    self.indicies = indicies\n",
        "    self.transform = transforms.Compose([\n",
        "        transforms.ToTensor(),\n",
        "        transforms.Normalize([0.5],[0.5])\n",
        "    ])\n",
        "  def __len__(self):\n",
        "    return len(self.images)\n",
        "\n",
        "  def __getitem__(self, idx):\n",
        "    image = self.images[idx].reshape(28,28).astype(np.uint8)\n",
        "    label = self.labels[idx]\n",
        "    index = self.indicies[idx]\n",
        "    image = self.transform(image)\n",
        "    return {'image':image, 'label':label, 'index':index}"
      ],
      "metadata": {
        "id": "5tx_RXWOKXn_"
      },
      "execution_count": null,
      "outputs": []
    },
    {
      "cell_type": "code",
      "source": [
        "class FMNIST_TestDataset(Dataset):\n",
        "  def __init__(self, images, indicies):\n",
        "    self.images = images\n",
        "    self.indicies = indicies\n",
        "    self.transform = transforms.Compose([\n",
        "        transforms.ToTensor(),\n",
        "        transforms.Normalize([0.5],[0.5])\n",
        "    ])\n",
        "  def __len__(self):\n",
        "    return len(self.images)\n",
        "\n",
        "  def __getitem__(self, idx):\n",
        "    image = self.images[idx, 1:].reshape(28,28).astype(np.uint8)\n",
        "    index = self.indicies[idx]\n",
        "    image = self.transform(image)\n",
        "    return {'image':image, 'index':index}"
      ],
      "metadata": {
        "id": "jXEcK3FgKi_u"
      },
      "execution_count": null,
      "outputs": []
    },
    {
      "cell_type": "markdown",
      "source": [
        "###Muestras de los conjuntos de datos"
      ],
      "metadata": {
        "id": "QhwlVbVPNfSY"
      }
    },
    {
      "cell_type": "code",
      "source": [
        "plt.figure()\n",
        "f, axarr = plt.subplots(1,3, figsize=(20,20))\n",
        "\n",
        "train_dataset = FMNIST_TrainDataset(train_df.iloc[:,1:].values.astype(np.uint8), train_df.iloc[:,0].values, train_df.index.values)\n",
        "print(len(train_dataset))\n",
        "print(train_dataset[0])\n",
        "axarr[0].imshow(train_dataset[0]['image'].squeeze(), cmap='gray')\n",
        "axarr[0].set_title('Train image')\n",
        "print('-'*30)\n",
        "\n",
        "val_dataset = FMNIST_ValDataset(val_df.iloc[:,1:].values.astype(np.uint8), val_df.iloc[:,0].values, val_df.index.values)\n",
        "print(len(val_dataset))\n",
        "print(val_dataset[0])\n",
        "axarr[1].imshow(val_dataset[0]['image'].squeeze(), cmap='gray')\n",
        "axarr[1].set_title('Validation image')\n",
        "print('-'*30)\n",
        "\n",
        "test_dataset = FMNIST_TestDataset(test_df.values.astype(np.uint8), test_df.index.values)\n",
        "print(len(test_dataset))\n",
        "print(test_dataset[0])\n",
        "axarr[2].imshow(test_dataset[0]['image'].squeeze(), cmap='gray')\n",
        "axarr[2].set_title('Test image')\n",
        "print('-'*30)\n",
        "\n",
        "plt.show()"
      ],
      "metadata": {
        "colab": {
          "base_uri": "https://localhost:8080/",
          "height": 1000
        },
        "id": "PW8DaTXYK2yv",
        "outputId": "8f87ee33-a2b0-4452-86aa-849d3140cd75"
      },
      "execution_count": null,
      "outputs": [
        {
          "output_type": "stream",
          "name": "stdout",
          "text": [
            "48000\n",
            "{'image': tensor([[[-1.0000, -1.0000, -1.0000, -1.0000, -1.0000, -1.0000, -1.0000,\n",
            "          -1.0000, -1.0000, -1.0000, -1.0000, -1.0000, -1.0000, -1.0000,\n",
            "          -1.0000, -1.0000, -1.0000, -1.0000, -1.0000, -1.0000, -1.0000,\n",
            "          -1.0000, -1.0000, -1.0000, -1.0000, -1.0000, -1.0000, -1.0000],\n",
            "         [-1.0000, -1.0000, -1.0000, -1.0000, -1.0000, -1.0000, -1.0000,\n",
            "          -1.0000, -1.0000, -1.0000, -1.0000, -1.0000, -1.0000, -1.0000,\n",
            "          -1.0000, -1.0000, -1.0000, -1.0000, -1.0000, -1.0000, -1.0000,\n",
            "          -1.0000, -1.0000, -1.0000, -1.0000, -1.0000, -1.0000, -1.0000],\n",
            "         [-1.0000, -1.0000, -1.0000, -1.0000, -1.0000, -1.0000, -1.0000,\n",
            "          -1.0000, -1.0000, -1.0000, -1.0000, -1.0000, -1.0000, -1.0000,\n",
            "          -1.0000, -1.0000, -1.0000, -1.0000, -1.0000, -1.0000, -1.0000,\n",
            "          -1.0000, -1.0000, -1.0000, -1.0000, -1.0000, -1.0000, -1.0000],\n",
            "         [-1.0000, -1.0000, -1.0000, -1.0000, -1.0000, -1.0000, -1.0000,\n",
            "          -1.0000, -1.0000, -1.0000, -1.0000, -1.0000, -1.0000, -1.0000,\n",
            "          -1.0000, -1.0000, -1.0000, -1.0000, -1.0000, -1.0000, -1.0000,\n",
            "          -1.0000, -1.0000, -1.0000, -1.0000, -1.0000, -1.0000, -1.0000],\n",
            "         [-1.0000, -1.0000, -1.0000, -1.0000, -1.0000, -1.0000, -1.0000,\n",
            "          -1.0000, -1.0000, -1.0000, -0.9843, -0.9843, -0.9451, -0.9843,\n",
            "          -1.0000, -1.0000, -1.0000, -1.0000, -1.0000, -1.0000, -0.9451,\n",
            "          -0.5686, -0.3725, -0.1529, -0.5451,  0.0667, -1.0000, -1.0000],\n",
            "         [-1.0000, -1.0000, -1.0000, -1.0000, -1.0000, -1.0000, -1.0000,\n",
            "          -1.0000, -1.0000, -0.9843, -0.9843, -0.9608, -1.0000, -0.9843,\n",
            "          -0.9843, -0.9059, -0.4275, -0.1922,  0.0275,  0.1216,  0.1216,\n",
            "           0.3804,  0.2627, -0.3333,  1.0000, -1.0000, -1.0000, -1.0000],\n",
            "         [-1.0000, -1.0000, -1.0000, -1.0000, -1.0000, -1.0000, -1.0000,\n",
            "          -1.0000, -1.0000, -1.0000, -0.9843, -1.0000, -0.8824, -0.1529,\n",
            "           0.0431,  0.1216,  0.4824,  0.5373,  0.5373,  0.4039, -0.1137,\n",
            "          -0.3882, -0.7490, -1.0000, -0.2314, -0.8039, -1.0000, -1.0000],\n",
            "         [-1.0000, -1.0000, -1.0000, -1.0000, -1.0000, -1.0000, -1.0000,\n",
            "          -1.0000, -1.0000, -1.0000, -0.9608, -1.0000, -0.9059, -0.6314,\n",
            "          -0.6863, -0.6314, -0.8824, -1.0000, -1.0000, -0.8431, -1.0000,\n",
            "          -1.0000, -1.0000, -1.0000, -0.5843, -0.1137, -1.0000, -1.0000],\n",
            "         [-1.0000, -1.0000, -1.0000, -1.0000, -1.0000, -1.0000, -1.0000,\n",
            "          -1.0000, -1.0000, -1.0000, -0.9843, -0.9451, -1.0000, -1.0000,\n",
            "          -1.0000, -1.0000, -1.0000, -1.0000, -1.0000, -1.0000, -1.0000,\n",
            "          -1.0000, -0.9843, -1.0000, -0.9843,  0.5216, -0.5686, -1.0000],\n",
            "         [-1.0000, -1.0000, -1.0000, -1.0000, -1.0000, -1.0000, -1.0000,\n",
            "          -1.0000, -1.0000, -1.0000, -1.0000, -0.9843, -1.0000, -1.0000,\n",
            "          -0.9843, -0.9843, -0.9608, -1.0000, -1.0000, -1.0000, -0.9843,\n",
            "          -0.9843, -1.0000, -1.0000, -0.9843,  0.5765,  0.2627, -1.0000],\n",
            "         [-1.0000, -1.0000, -1.0000, -1.0000, -1.0000, -1.0000, -1.0000,\n",
            "          -1.0000, -1.0000, -0.9843, -0.9843, -1.0000, -0.9608, -0.9843,\n",
            "          -1.0000, -1.0000, -1.0000, -1.0000, -0.9843, -1.0000, -1.0000,\n",
            "          -1.0000, -1.0000, -1.0000, -0.7882,  0.6000,  0.3020, -0.8824],\n",
            "         [-1.0000, -1.0000, -1.0000, -1.0000, -1.0000, -1.0000, -1.0000,\n",
            "          -1.0000, -1.0000, -0.9843, -0.9608, -1.0000, -1.0000, -1.0000,\n",
            "          -1.0000, -1.0000, -1.0000, -1.0000, -0.9608, -0.9843, -1.0000,\n",
            "          -0.9843, -1.0000, -1.0000, -0.2157,  0.6392,  0.1608, -0.7255],\n",
            "         [-1.0000, -1.0000, -1.0000, -1.0000, -1.0000, -1.0000, -1.0000,\n",
            "          -1.0000, -1.0000, -1.0000, -1.0000, -1.0000, -1.0000, -1.0000,\n",
            "          -1.0000, -1.0000, -1.0000, -1.0000, -1.0000, -1.0000, -1.0000,\n",
            "          -1.0000, -1.0000, -1.0000,  0.3412,  0.7804, -0.6078, -0.6706],\n",
            "         [-1.0000, -1.0000, -1.0000, -1.0000, -1.0000, -1.0000, -1.0000,\n",
            "          -1.0000, -1.0000, -1.0000, -1.0000, -1.0000, -1.0000, -1.0000,\n",
            "          -1.0000, -1.0000, -1.0000, -1.0000, -1.0000, -1.0000, -1.0000,\n",
            "          -1.0000, -0.8667, -0.8039,  0.9529,  0.0275, -0.6471, -0.3725],\n",
            "         [-1.0000, -1.0000, -1.0000, -1.0000, -1.0000, -1.0000, -1.0000,\n",
            "          -1.0000, -1.0000, -1.0000, -1.0000, -1.0000, -1.0000, -1.0000,\n",
            "          -1.0000, -1.0000, -1.0000, -1.0000, -1.0000, -1.0000, -0.8039,\n",
            "          -0.6314, -0.4510, -0.4667, -0.1686, -0.5294, -0.3098, -0.7490],\n",
            "         [-1.0000, -1.0000, -1.0000, -1.0000, -1.0000, -1.0000, -1.0000,\n",
            "          -1.0000, -1.0000, -1.0000, -1.0000, -1.0000, -1.0000, -1.0000,\n",
            "          -1.0000, -1.0000, -1.0000, -1.0000, -0.8824, -0.8039, -0.4118,\n",
            "           0.3804,  0.6627,  0.4980, -0.1137, -0.8275, -0.8824, -1.0000],\n",
            "         [-1.0000, -1.0000, -1.0000, -1.0000, -1.0000, -0.9843, -1.0000,\n",
            "          -0.9843, -1.0000, -1.0000, -1.0000, -1.0000, -1.0000, -0.9843,\n",
            "          -1.0000, -1.0000, -1.0000, -0.8039, -0.4275,  0.1608,  0.6392,\n",
            "          -0.6706, -1.0000, -0.1529, -0.0353, -0.7255, -0.8275, -0.9451],\n",
            "         [-1.0000, -1.0000, -1.0000, -1.0000, -1.0000, -1.0000, -1.0000,\n",
            "          -1.0000, -1.0000, -1.0000, -1.0000, -1.0000, -1.0000, -1.0000,\n",
            "          -1.0000, -1.0000, -0.8667, -0.3490,  0.2235,  0.1843, -1.0000,\n",
            "          -1.0000, -1.0000, -1.0000, -0.7490, -0.0745, -0.9608, -1.0000],\n",
            "         [-1.0000, -1.0000, -1.0000, -1.0000, -1.0000, -1.0000, -1.0000,\n",
            "          -1.0000, -1.0000, -1.0000, -1.0000, -1.0000, -1.0000, -0.9843,\n",
            "          -1.0000, -0.9608, -0.3098,  0.3647, -0.1529, -1.0000, -1.0000,\n",
            "          -0.9843, -1.0000, -1.0000, -0.9843,  0.2471, -0.6078, -1.0000],\n",
            "         [-1.0000, -1.0000, -1.0000, -1.0000, -1.0000, -0.7882, -0.8667,\n",
            "          -0.0745, -0.5686, -1.0000, -1.0000, -1.0000, -1.0000, -1.0000,\n",
            "          -1.0000, -0.6078,  0.3255, -0.0745, -1.0000, -1.0000, -0.9451,\n",
            "          -1.0000, -1.0000, -1.0000, -1.0000,  0.6392, -0.4275, -1.0000],\n",
            "         [-1.0000, -1.0000, -1.0000, -0.9843, -0.9059, -0.5843, -0.9216,\n",
            "          -0.3882,  0.2078, -1.0000, -1.0000, -1.0000, -1.0000, -1.0000,\n",
            "          -0.8275,  0.6000,  0.0667, -1.0000, -1.0000, -1.0000, -1.0000,\n",
            "          -1.0000, -0.9843, -1.0000, -1.0000,  0.3255, -0.3725, -1.0000],\n",
            "         [-0.7647, -0.5294, -0.8039, -0.7882, -0.9451, -1.0000, -0.9451,\n",
            "          -0.9608,  0.2863, -0.9843, -1.0000, -1.0000, -1.0000, -0.4118,\n",
            "           0.1451,  0.4980, -1.0000, -1.0000, -1.0000, -1.0000, -1.0000,\n",
            "          -1.0000, -0.9843, -1.0000, -1.0000,  0.3804, -0.1686, -1.0000],\n",
            "         [-0.7882, -0.0745,  0.0431, -0.0510, -0.4667, -0.3490, -0.6314,\n",
            "          -0.5843, -0.2549, -0.6471, -1.0000, -0.8431, -0.0745,  0.3255,\n",
            "           0.2471, -1.0000, -1.0000, -0.9843, -1.0000, -1.0000, -1.0000,\n",
            "          -1.0000, -1.0000, -1.0000, -1.0000,  0.4588, -0.0353, -1.0000],\n",
            "         [-1.0000, -1.0000, -0.9608, -0.7647,  0.0824, -0.4118, -0.3725,\n",
            "          -0.4275, -0.0510,  0.0824,  0.0824,  0.3647,  0.2627, -0.9843,\n",
            "          -1.0000, -0.9608, -0.9843, -1.0000, -1.0000, -1.0000, -1.0000,\n",
            "          -1.0000, -1.0000, -1.0000, -1.0000,  0.3255, -0.3333, -1.0000],\n",
            "         [-1.0000, -1.0000, -1.0000, -1.0000, -0.5843, -0.6078, -0.3725,\n",
            "          -0.4902, -0.1686,  0.0275, -0.6078, -0.5451, -1.0000, -1.0000,\n",
            "          -1.0000, -0.9843, -0.9451, -1.0000, -1.0000, -1.0000, -1.0000,\n",
            "          -1.0000, -1.0000, -1.0000,  0.2471,  0.1216, -1.0000, -1.0000],\n",
            "         [-1.0000, -1.0000, -1.0000, -1.0000, -1.0000, -1.0000, -1.0000,\n",
            "          -1.0000, -1.0000, -1.0000, -1.0000, -1.0000, -1.0000, -1.0000,\n",
            "          -1.0000, -1.0000, -1.0000, -1.0000, -1.0000, -1.0000, -1.0000,\n",
            "          -1.0000, -1.0000, -1.0000,  0.1059,  0.1608, -1.0000, -1.0000],\n",
            "         [-1.0000, -1.0000, -1.0000, -1.0000, -1.0000, -1.0000, -1.0000,\n",
            "          -1.0000, -1.0000, -1.0000, -1.0000, -1.0000, -1.0000, -1.0000,\n",
            "          -1.0000, -1.0000, -1.0000, -1.0000, -1.0000, -1.0000, -1.0000,\n",
            "          -1.0000, -1.0000, -1.0000, -1.0000, -1.0000, -1.0000, -1.0000],\n",
            "         [-1.0000, -1.0000, -1.0000, -1.0000, -1.0000, -1.0000, -1.0000,\n",
            "          -1.0000, -1.0000, -1.0000, -1.0000, -1.0000, -1.0000, -1.0000,\n",
            "          -1.0000, -1.0000, -1.0000, -1.0000, -1.0000, -1.0000, -1.0000,\n",
            "          -1.0000, -1.0000, -1.0000, -1.0000, -1.0000, -1.0000, -1.0000]]]), 'label': 5, 'index': 48572}\n",
            "------------------------------\n",
            "12000\n",
            "{'image': tensor([[[-1.0000, -1.0000, -1.0000, -1.0000, -1.0000, -1.0000, -1.0000,\n",
            "          -1.0000, -1.0000, -1.0000, -1.0000, -1.0000, -1.0000, -1.0000,\n",
            "          -1.0000, -1.0000, -1.0000, -1.0000, -1.0000, -1.0000, -1.0000,\n",
            "          -1.0000, -1.0000, -1.0000, -1.0000, -1.0000, -1.0000, -1.0000],\n",
            "         [-1.0000, -1.0000, -1.0000, -1.0000, -1.0000, -1.0000, -1.0000,\n",
            "          -1.0000, -1.0000, -1.0000, -1.0000, -1.0000, -1.0000, -1.0000,\n",
            "          -1.0000, -1.0000, -1.0000, -1.0000, -1.0000, -1.0000, -1.0000,\n",
            "          -1.0000, -1.0000, -1.0000, -1.0000, -1.0000, -1.0000, -1.0000],\n",
            "         [-1.0000, -1.0000, -1.0000, -1.0000, -1.0000, -1.0000, -1.0000,\n",
            "          -1.0000, -1.0000, -1.0000, -1.0000, -1.0000, -1.0000, -1.0000,\n",
            "          -1.0000, -1.0000, -1.0000, -1.0000, -1.0000, -1.0000, -1.0000,\n",
            "          -1.0000, -1.0000, -1.0000, -1.0000, -1.0000, -1.0000, -1.0000],\n",
            "         [-1.0000, -1.0000, -1.0000, -1.0000, -1.0000, -1.0000, -1.0000,\n",
            "          -1.0000, -1.0000, -1.0000, -1.0000, -1.0000, -1.0000, -1.0000,\n",
            "          -1.0000, -1.0000, -1.0000, -1.0000, -1.0000, -1.0000, -1.0000,\n",
            "          -1.0000, -1.0000, -1.0000, -1.0000, -1.0000, -1.0000, -1.0000],\n",
            "         [-1.0000, -1.0000, -1.0000, -1.0000, -1.0000, -1.0000, -1.0000,\n",
            "          -1.0000, -1.0000, -1.0000, -1.0000, -1.0000, -1.0000, -1.0000,\n",
            "          -1.0000, -1.0000, -1.0000, -1.0000, -1.0000, -1.0000, -1.0000,\n",
            "          -1.0000, -1.0000, -1.0000, -1.0000, -1.0000, -1.0000, -1.0000],\n",
            "         [-1.0000, -1.0000, -1.0000, -1.0000, -1.0000, -1.0000, -1.0000,\n",
            "          -1.0000, -1.0000, -1.0000, -1.0000, -1.0000, -1.0000, -1.0000,\n",
            "          -1.0000, -1.0000, -1.0000, -1.0000, -1.0000, -1.0000, -1.0000,\n",
            "          -1.0000, -1.0000, -1.0000, -1.0000, -1.0000, -1.0000, -1.0000],\n",
            "         [-1.0000, -1.0000, -1.0000, -1.0000, -1.0000, -1.0000, -1.0000,\n",
            "          -1.0000, -1.0000, -1.0000, -1.0000, -1.0000, -1.0000, -1.0000,\n",
            "          -1.0000, -1.0000, -1.0000, -1.0000, -1.0000, -1.0000, -1.0000,\n",
            "          -1.0000, -1.0000, -1.0000, -1.0000, -1.0000, -1.0000, -1.0000],\n",
            "         [-1.0000, -1.0000, -1.0000, -1.0000, -1.0000, -1.0000, -1.0000,\n",
            "          -1.0000, -1.0000, -1.0000, -1.0000, -1.0000, -1.0000, -1.0000,\n",
            "          -1.0000, -1.0000, -1.0000, -1.0000, -1.0000, -1.0000, -1.0000,\n",
            "          -1.0000, -1.0000, -1.0000, -1.0000, -1.0000, -1.0000, -1.0000],\n",
            "         [-1.0000, -1.0000, -1.0000, -1.0000, -1.0000, -1.0000, -1.0000,\n",
            "          -1.0000, -1.0000, -1.0000, -1.0000, -1.0000, -1.0000, -0.9843,\n",
            "          -1.0000, -1.0000, -1.0000, -0.4275, -0.9608, -1.0000, -0.9843,\n",
            "          -1.0000, -1.0000, -1.0000, -1.0000, -1.0000, -1.0000, -1.0000],\n",
            "         [-1.0000, -1.0000, -1.0000, -1.0000, -1.0000, -1.0000, -1.0000,\n",
            "          -1.0000, -1.0000, -1.0000, -1.0000, -1.0000, -1.0000, -1.0000,\n",
            "          -1.0000,  0.1137,  0.2627,  0.6706,  0.1059, -1.0000, -1.0000,\n",
            "          -0.9922, -1.0000, -1.0000, -1.0000, -1.0000, -0.9922, -1.0000],\n",
            "         [-1.0000, -1.0000, -1.0000, -1.0000, -1.0000, -1.0000, -1.0000,\n",
            "          -1.0000, -1.0000, -1.0000, -1.0000, -1.0000, -1.0000, -0.8667,\n",
            "           0.3098,  0.5216,  0.6235,  0.4824,  0.7804, -0.4196, -1.0000,\n",
            "          -0.9608, -1.0000, -0.9922, -0.9843, -1.0000, -1.0000, -1.0000],\n",
            "         [-1.0000, -1.0000, -1.0000, -1.0000, -1.0000, -1.0000, -1.0000,\n",
            "          -1.0000, -1.0000, -1.0000, -1.0000, -1.0000, -0.7412,  0.2392,\n",
            "           0.6863,  0.5059,  0.5686,  0.4588,  0.7255,  0.0196, -1.0000,\n",
            "          -1.0000, -1.0000, -1.0000, -1.0000, -1.0000, -1.0000, -1.0000],\n",
            "         [-1.0000, -0.9843, -0.9765, -0.9686, -0.9686, -0.9765, -0.9843,\n",
            "          -1.0000, -1.0000, -1.0000, -1.0000,  0.2706,  0.5373,  0.5608,\n",
            "           0.5373,  0.5529,  0.5765,  0.6235,  0.6235, -0.3255, -0.9686,\n",
            "          -1.0000, -1.0000, -0.9451, -0.5922, -0.0588,  0.8824, -0.6784],\n",
            "         [-1.0000, -1.0000, -1.0000, -1.0000, -1.0000, -1.0000, -1.0000,\n",
            "          -1.0000, -1.0000, -0.4588,  0.6863,  0.5686,  0.4745,  0.2471,\n",
            "           0.2863,  0.4275,  0.5294,  0.6235,  0.7098,  0.7569,  0.9608,\n",
            "           0.6784,  0.5451,  0.6078,  0.7490,  0.6706,  0.7412, -0.4745],\n",
            "         [-1.0000, -1.0000, -1.0000, -0.9686, -0.8824, -0.7569, -0.4353,\n",
            "          -0.3882,  0.3020,  0.8824,  0.4275,  0.1765, -0.0667, -0.0196,\n",
            "           0.0118,  0.1137,  0.2392,  0.2784,  0.4196,  0.6314,  0.7098,\n",
            "           0.7333,  0.7255,  0.6863,  0.6471,  0.5373,  0.6078,  0.1373],\n",
            "         [-0.8275,  0.2549,  0.6078,  0.6235,  0.6392,  0.6157,  0.6000,\n",
            "           0.5294,  0.4275,  0.1608, -0.1765,  0.0039,  0.0510,  0.1608,\n",
            "           0.0980,  0.0275,  0.1137,  0.2314,  0.2471,  0.1843,  0.3333,\n",
            "           0.4588,  0.4824,  0.5137,  0.5608,  0.5373,  0.6157,  0.4353],\n",
            "         [-0.9137, -0.5451, -0.4196, -0.2863, -0.0196,  0.2941,  0.5765,\n",
            "           0.7020,  0.6627,  0.4902,  0.2157,  0.0667,  0.1373,  0.1765,\n",
            "           0.1843,  0.1137,  0.0510,  0.0745,  0.1529,  0.2157,  0.2627,\n",
            "           0.3333,  0.3176,  0.2941,  0.4588,  0.5686,  0.6941,  0.4667],\n",
            "         [-0.8745, -0.8667, -0.9294, -1.0000, -1.0000, -1.0000, -1.0000,\n",
            "          -0.3882,  0.3412,  0.9059,  0.6235,  0.5373,  0.5608,  0.6235,\n",
            "           0.6471,  0.6392,  0.6157,  0.9529,  0.9137,  0.8902,  0.8353,\n",
            "           0.7725,  0.6863,  0.6471,  0.6706,  0.8588,  1.0000,  0.2941],\n",
            "         [-1.0000, -0.9451, -0.7882, -0.6863, -0.6784, -0.9059, -1.0000,\n",
            "          -1.0000, -1.0000, -1.0000, -0.9216, -0.6392, -0.5765, -0.4745,\n",
            "          -0.4824, -0.5529, -0.6471, -0.7255, -0.8118, -0.9137, -1.0000,\n",
            "          -1.0000, -1.0000, -1.0000, -1.0000, -1.0000, -1.0000, -1.0000],\n",
            "         [-1.0000, -1.0000, -1.0000, -0.8667, -0.6157, -0.2784, -0.1216,\n",
            "          -0.3255, -0.5294, -0.7020, -0.8667, -1.0000, -1.0000, -1.0000,\n",
            "          -1.0000, -0.9765, -0.9451, -0.9451, -0.9451, -0.8824, -0.8510,\n",
            "          -0.8353, -0.8510, -0.9059, -0.9686, -0.9529, -0.9216, -1.0000],\n",
            "         [-1.0000, -1.0000, -1.0000, -1.0000, -1.0000, -0.9451, -0.8353,\n",
            "          -0.7020, -0.5843, -0.6157, -0.5529, -0.5922, -0.5294, -0.5137,\n",
            "          -0.4902, -0.4824, -0.4510, -0.4196, -0.4275, -0.4118, -0.4118,\n",
            "          -0.4196, -0.4118, -0.4745, -0.5529, -0.5059, -0.5529, -1.0000],\n",
            "         [-1.0000, -1.0000, -1.0000, -1.0000, -1.0000, -1.0000, -1.0000,\n",
            "          -1.0000, -1.0000, -1.0000, -1.0000, -1.0000, -1.0000, -1.0000,\n",
            "          -1.0000, -1.0000, -1.0000, -1.0000, -1.0000, -1.0000, -1.0000,\n",
            "          -1.0000, -1.0000, -1.0000, -1.0000, -1.0000, -1.0000, -1.0000],\n",
            "         [-1.0000, -1.0000, -1.0000, -1.0000, -1.0000, -1.0000, -1.0000,\n",
            "          -1.0000, -1.0000, -1.0000, -1.0000, -1.0000, -1.0000, -1.0000,\n",
            "          -1.0000, -1.0000, -1.0000, -1.0000, -1.0000, -1.0000, -1.0000,\n",
            "          -1.0000, -1.0000, -1.0000, -1.0000, -1.0000, -1.0000, -1.0000],\n",
            "         [-1.0000, -1.0000, -1.0000, -1.0000, -1.0000, -1.0000, -1.0000,\n",
            "          -1.0000, -1.0000, -1.0000, -1.0000, -1.0000, -1.0000, -1.0000,\n",
            "          -1.0000, -1.0000, -1.0000, -1.0000, -1.0000, -1.0000, -1.0000,\n",
            "          -1.0000, -1.0000, -1.0000, -1.0000, -1.0000, -1.0000, -1.0000],\n",
            "         [-1.0000, -1.0000, -1.0000, -1.0000, -1.0000, -1.0000, -1.0000,\n",
            "          -1.0000, -1.0000, -1.0000, -1.0000, -1.0000, -1.0000, -1.0000,\n",
            "          -1.0000, -1.0000, -1.0000, -1.0000, -1.0000, -1.0000, -1.0000,\n",
            "          -1.0000, -1.0000, -1.0000, -1.0000, -1.0000, -1.0000, -1.0000],\n",
            "         [-1.0000, -1.0000, -1.0000, -1.0000, -1.0000, -1.0000, -1.0000,\n",
            "          -1.0000, -1.0000, -1.0000, -1.0000, -1.0000, -1.0000, -1.0000,\n",
            "          -1.0000, -1.0000, -1.0000, -1.0000, -1.0000, -1.0000, -1.0000,\n",
            "          -1.0000, -1.0000, -1.0000, -1.0000, -1.0000, -1.0000, -1.0000],\n",
            "         [-1.0000, -1.0000, -1.0000, -1.0000, -1.0000, -1.0000, -1.0000,\n",
            "          -1.0000, -1.0000, -1.0000, -1.0000, -1.0000, -1.0000, -1.0000,\n",
            "          -1.0000, -1.0000, -1.0000, -1.0000, -1.0000, -1.0000, -1.0000,\n",
            "          -1.0000, -1.0000, -1.0000, -1.0000, -1.0000, -1.0000, -1.0000],\n",
            "         [-1.0000, -1.0000, -1.0000, -1.0000, -1.0000, -1.0000, -1.0000,\n",
            "          -1.0000, -1.0000, -1.0000, -1.0000, -1.0000, -1.0000, -1.0000,\n",
            "          -1.0000, -1.0000, -1.0000, -1.0000, -1.0000, -1.0000, -1.0000,\n",
            "          -1.0000, -1.0000, -1.0000, -1.0000, -1.0000, -1.0000, -1.0000]]]), 'label': 7, 'index': 12628}\n",
            "------------------------------\n",
            "10000\n",
            "{'image': tensor([[[-1.0000, -1.0000, -1.0000, -1.0000, -1.0000, -1.0000, -1.0000,\n",
            "          -0.9294, -0.9373, -1.0000, -1.0000, -0.7333, -0.7725, -0.9451,\n",
            "          -1.0000, -0.9137, -0.8118, -1.0000, -1.0000, -0.9765, -0.9765,\n",
            "          -0.9922, -1.0000, -0.9922, -0.9922, -1.0000, -1.0000, -1.0000],\n",
            "         [-1.0000, -1.0000, -0.9686, -1.0000, -1.0000, -0.9922, -1.0000,\n",
            "          -1.0000, -1.0000, -1.0000, -1.0000, -0.6549, -0.3098, -0.2235,\n",
            "          -0.0431, -0.0353, -0.3725, -1.0000, -1.0000, -1.0000, -1.0000,\n",
            "          -0.9922, -0.9922, -0.9922, -1.0000, -1.0000, -1.0000, -1.0000],\n",
            "         [-1.0000, -1.0000, -0.9922, -0.9843, -1.0000, -1.0000, -1.0000,\n",
            "          -0.9765, -0.6392,  0.3647,  0.9529, -0.4745, -1.0000, -0.2627,\n",
            "           0.6471, -0.5216, -0.8902,  0.6627,  0.2314, -0.7098, -1.0000,\n",
            "          -1.0000, -1.0000, -1.0000, -0.9922, -1.0000, -1.0000, -1.0000],\n",
            "         [-1.0000, -1.0000, -0.9843, -0.9843, -1.0000, -0.8196,  0.3176,\n",
            "           0.6157,  0.8980,  0.8745,  0.8667,  0.6784, -0.0196, -0.5216,\n",
            "          -0.1137, -0.4196,  0.0431,  0.8510,  0.8667,  0.8510,  0.5922,\n",
            "           0.4431, -0.8431, -1.0000, -0.9922, -1.0000, -1.0000, -1.0000],\n",
            "         [-1.0000, -1.0000, -0.9922, -1.0000, -1.0000,  0.3725,  0.9216,\n",
            "           0.7490,  0.6235,  0.6078,  0.6157,  0.6941,  1.0000,  0.8588,\n",
            "           0.9686,  0.8196,  0.7490,  0.6627,  0.5686,  0.6078,  0.6941,\n",
            "           0.9529,  0.3569, -1.0000, -1.0000, -0.9843, -1.0000, -1.0000],\n",
            "         [-1.0000, -1.0000, -0.9451, -1.0000, -0.5843,  0.7647,  0.5765,\n",
            "           0.5451,  0.5686,  0.5765,  0.6157,  0.5608,  0.5451,  0.4510,\n",
            "           0.5216,  0.6000,  0.8196,  0.7725,  0.9529,  0.7176,  0.5216,\n",
            "           0.6078,  0.7961, -0.7412, -1.0000, -0.9922, -1.0000, -1.0000],\n",
            "         [-1.0000, -1.0000, -0.9922, -1.0000,  0.0431,  0.7490,  0.6314,\n",
            "           0.5059,  0.5294,  0.8275,  0.7725,  0.6941,  0.4980,  0.6471,\n",
            "           0.4745,  0.8510,  0.4588, -1.0000, -0.6078,  0.8353,  0.6235,\n",
            "           0.6314,  0.8118,  0.0431, -1.0000, -1.0000, -1.0000, -1.0000],\n",
            "         [-1.0000, -1.0000, -1.0000, -1.0000,  0.6941,  0.7098,  0.6941,\n",
            "           0.5216,  0.7961,  0.3490, -0.4980,  0.7176,  0.5765,  0.5686,\n",
            "           0.5686,  0.9373, -0.4667, -0.4353, -0.5765,  0.2941,  0.8588,\n",
            "           0.6627,  0.7176,  0.7725, -1.0000, -1.0000, -1.0000, -1.0000],\n",
            "         [-1.0000, -1.0000, -1.0000, -0.6078,  0.7333,  0.6235,  0.7255,\n",
            "           0.6549,  0.6235,  0.2941,  0.0824,  0.6078,  0.5059,  0.4980,\n",
            "           0.4902,  0.8196, -0.0667, -0.1137, -0.4745,  0.3569,  0.8588,\n",
            "           0.7020,  0.6314,  0.7333, -0.7725, -1.0000, -1.0000, -1.0000],\n",
            "         [-1.0000, -1.0000, -1.0000,  0.0275,  0.6941,  0.5686,  0.7176,\n",
            "           0.6235,  0.6627,  0.8118,  0.7725,  0.5137,  0.6784,  0.7569,\n",
            "           0.6157,  0.5922,  0.8039, -0.0431, -0.1216,  0.8353,  0.7569,\n",
            "           0.6784,  0.6000,  0.7569, -0.0353, -1.0000, -1.0000, -1.0000],\n",
            "         [-1.0000, -1.0000, -1.0000,  0.5294,  0.6627,  0.6000,  0.6549,\n",
            "           0.5922,  0.6078,  0.5686,  0.4431,  0.6706,  0.2706,  0.0824,\n",
            "           0.5137,  0.6235,  0.5922,  0.8118,  0.9216,  0.6314,  0.7255,\n",
            "           0.6549,  0.5922,  0.7176,  0.4039, -1.0000, -1.0000, -1.0000],\n",
            "         [-1.0000, -1.0000, -0.9373,  0.4510,  0.4980,  0.7098,  0.8275,\n",
            "           0.7176,  0.5765,  0.7333,  0.6706,  0.9294, -0.1059, -0.0039,\n",
            "          -0.3725,  0.0118,  0.8196,  0.5529,  0.7098,  0.6235,  0.8510,\n",
            "           0.7804,  0.7255,  0.6941,  0.3490, -0.8353, -1.0000, -1.0000],\n",
            "         [-1.0000, -1.0000, -0.8353, -0.9686, -0.9608, -0.4980,  0.2549,\n",
            "           0.7569,  0.7569,  0.1294,  0.4667,  0.5451,  0.6549,  0.6235,\n",
            "           0.4588,  0.5059,  0.6471,  0.6627,  0.7098,  0.7647,  0.8510,\n",
            "           0.3882, -0.1686, -0.5608, -0.7804, -0.9922, -1.0000, -1.0000],\n",
            "         [-1.0000, -1.0000, -0.9922, -0.9922, -1.0000, -0.9843, -1.0000,\n",
            "          -0.0902,  0.9765, -0.2471, -0.0588, -0.6000, -0.4275, -0.4510,\n",
            "          -0.0353, -0.3804, -0.4039, -0.4980,  0.2706,  0.9765, -0.0745,\n",
            "          -0.9922, -0.9765, -1.0000, -0.9686, -0.9843, -1.0000, -1.0000],\n",
            "         [-1.0000, -1.0000, -1.0000, -1.0000, -1.0000, -1.0000, -1.0000,\n",
            "          -0.0980,  0.7725,  0.1373,  0.3333,  0.2157,  0.2941,  0.2627,\n",
            "           0.2471, -0.0196,  0.3725,  0.0980,  0.3647,  0.8510, -0.2549,\n",
            "          -1.0000, -0.9843, -0.9843, -1.0000, -1.0000, -1.0000, -1.0000],\n",
            "         [-1.0000, -1.0000, -1.0000, -1.0000, -0.9922, -0.9843, -1.0000,\n",
            "           0.0275,  0.7647,  0.6000,  0.7020,  0.7333,  0.7255,  0.7020,\n",
            "           0.7569,  0.8118,  0.7725,  0.8588,  0.5922,  0.8588, -0.2000,\n",
            "          -1.0000, -0.9686, -0.9843, -0.9922, -0.9843, -1.0000, -1.0000],\n",
            "         [-1.0000, -1.0000, -0.9922, -0.9922, -1.0000, -0.9765, -1.0000,\n",
            "           0.0588,  0.7490,  0.5765,  0.5608,  0.5216,  0.5529,  0.5294,\n",
            "           0.5529,  0.5059,  0.5922,  0.5608,  0.6235,  0.8118, -0.1216,\n",
            "          -1.0000, -0.9686, -1.0000, -1.0000, -1.0000, -1.0000, -1.0000],\n",
            "         [-1.0000, -1.0000, -0.9922, -0.9922, -1.0000, -0.9922, -1.0000,\n",
            "           0.0510,  0.7490,  0.5608,  0.6157,  0.5608,  0.5765,  0.5686,\n",
            "           0.5922,  0.6157,  0.6235,  0.6471,  0.6157,  0.7804, -0.0667,\n",
            "          -1.0000, -0.9765, -1.0000, -1.0000, -0.9922, -1.0000, -1.0000],\n",
            "         [-1.0000, -1.0000, -1.0000, -1.0000, -1.0000, -0.9922, -1.0000,\n",
            "           0.0902,  0.7490,  0.5529,  0.6000,  0.5686,  0.5765,  0.5686,\n",
            "           0.5765,  0.6000,  0.6157,  0.6314,  0.6157,  0.7961,  0.0039,\n",
            "          -1.0000, -0.9686, -1.0000, -1.0000, -1.0000, -1.0000, -1.0000],\n",
            "         [-1.0000, -1.0000, -1.0000, -1.0000, -1.0000, -0.9922, -1.0000,\n",
            "           0.1373,  0.7490,  0.5294,  0.6078,  0.5765,  0.5765,  0.5686,\n",
            "           0.6000,  0.6000,  0.6157,  0.6549,  0.6078,  0.8039,  0.0902,\n",
            "          -1.0000, -0.9843, -1.0000, -1.0000, -1.0000, -1.0000, -1.0000],\n",
            "         [-1.0000, -1.0000, -0.9922, -1.0000, -0.9922, -1.0000, -1.0000,\n",
            "           0.2314,  0.7333,  0.5216,  0.6000,  0.6000,  0.5765,  0.5765,\n",
            "           0.5922,  0.6078,  0.6314,  0.6549,  0.6000,  0.8039,  0.1608,\n",
            "          -1.0000, -0.9843, -1.0000, -0.9922, -0.9922, -1.0000, -1.0000],\n",
            "         [-1.0000, -1.0000, -0.9922, -0.9922, -0.9922, -1.0000, -1.0000,\n",
            "           0.3020,  0.7255,  0.5216,  0.5922,  0.5922,  0.6078,  0.5922,\n",
            "           0.5922,  0.6157,  0.6235,  0.6627,  0.6000,  0.8039,  0.2314,\n",
            "          -1.0000, -0.9843, -0.9922, -0.9922, -0.9922, -1.0000, -1.0000],\n",
            "         [-1.0000, -1.0000, -1.0000, -1.0000, -1.0000, -1.0000, -1.0000,\n",
            "           0.3412,  0.7333,  0.5294,  0.6157,  0.5686,  0.5608,  0.5922,\n",
            "           0.5922,  0.6078,  0.6157,  0.6235,  0.6000,  0.7725,  0.4196,\n",
            "          -1.0000, -1.0000, -1.0000, -1.0000, -1.0000, -1.0000, -1.0000],\n",
            "         [-1.0000, -1.0000, -1.0000, -1.0000, -0.9922, -1.0000, -1.0000,\n",
            "           0.2941,  0.7569,  0.5451,  0.5765,  0.6314,  0.5608,  0.6000,\n",
            "           0.6078,  0.6235,  0.6471,  0.6706,  0.6235,  0.7961,  0.4667,\n",
            "          -1.0000, -0.9922, -0.9843, -1.0000, -1.0000, -1.0000, -1.0000],\n",
            "         [-1.0000, -1.0000, -1.0000, -1.0000, -1.0000, -1.0000, -1.0000,\n",
            "           0.0039,  0.5765,  0.5922,  0.5765,  0.6235,  0.6549,  0.5922,\n",
            "           0.6078,  0.6157,  0.6471,  0.6706,  0.6078,  0.7647,  0.4980,\n",
            "          -1.0000, -1.0000, -0.9843, -1.0000, -1.0000, -1.0000, -1.0000],\n",
            "         [-1.0000, -1.0000, -1.0000, -1.0000, -0.9922, -0.9922, -1.0000,\n",
            "           0.1059,  0.5765,  0.4980,  0.4745,  0.5216,  0.4667,  0.4667,\n",
            "           0.4980,  0.5137,  0.5294,  0.5608,  0.5608,  0.7098,  0.2627,\n",
            "          -1.0000, -1.0000, -1.0000, -1.0000, -1.0000, -1.0000, -1.0000],\n",
            "         [-1.0000, -1.0000, -1.0000, -1.0000, -1.0000, -0.9922, -1.0000,\n",
            "           0.6627,  0.8824,  0.6706,  0.8745,  0.8275,  0.8745,  0.8118,\n",
            "           0.8196,  0.8510,  0.8980,  0.9216,  0.7569,  0.9216,  0.8353,\n",
            "          -1.0000, -0.9765, -1.0000, -1.0000, -1.0000, -1.0000, -1.0000],\n",
            "         [-1.0000, -1.0000, -1.0000, -1.0000, -1.0000, -1.0000, -1.0000,\n",
            "          -0.7098, -0.4588, -0.2627, -0.0353, -0.0039,  0.0824,  0.0824,\n",
            "           0.1137,  0.1373,  0.0588, -0.0196, -0.1922, -0.3176, -0.5608,\n",
            "          -1.0000, -1.0000, -1.0000, -1.0000, -1.0000, -1.0000, -1.0000]]]), 'index': 0}\n",
            "------------------------------\n"
          ]
        },
        {
          "output_type": "display_data",
          "data": {
            "text/plain": [
              "<Figure size 640x480 with 0 Axes>"
            ]
          },
          "metadata": {}
        },
        {
          "output_type": "display_data",
          "data": {
            "text/plain": [
              "<Figure size 2000x2000 with 3 Axes>"
            ],
            "image/png": "[encoded data removed]"
          },
          "metadata": {}
        }
      ]
    },
    {
      "cell_type": "code",
      "source": [
        "train_dataloader = DataLoader(dataset=train_dataset,\n",
        "                              batch_size = batch_size,\n",
        "                              shuffle = True)\n",
        "\n",
        "val_dataloader = DataLoader(dataset=val_dataset,\n",
        "                              batch_size = batch_size,\n",
        "                              shuffle = True)\n",
        "\n",
        "test_dataloader = DataLoader(dataset=test_dataset,\n",
        "                              batch_size = batch_size,\n",
        "                              shuffle = True)"
      ],
      "metadata": {
        "id": "N1qFrMSfaWbx"
      },
      "execution_count": null,
      "outputs": []
    },
    {
      "cell_type": "code",
      "source": [
        "criterion = nn.CrossEntropyLoss()\n",
        "optimizer = optim.Adam(model.parameters(), betas =adam_betas, lr=learning_rate, weight_decay = adam_weight_decay)\n",
        "model.to(device)\n",
        "start = timeit.default_timer()\n",
        "\n",
        "#Guardar los valores de los parametros para poder realizar las curvas de aprendizaje\n",
        "\n",
        "train_losses = []\n",
        "val_losses = []\n",
        "train_accuracies = []\n",
        "val_accuracies = []\n",
        "train_f1_scores = []  # Para almacenar el F1 Score de entrenamiento\n",
        "val_f1_scores = []    # Para almacenar el F1 Score de validación\n",
        "\n",
        "\n",
        "\n",
        "for epoch in tqdm(range(num_epochs), position=0, leave = True):\n",
        "  model.train()\n",
        "  train_labels =[]\n",
        "  train_preds = []\n",
        "  train_running_loss = 0\n",
        "  for idx, img_label in enumerate(tqdm(train_dataloader, position = 0, leave =True )):\n",
        "    img = img_label['image'].float().to(device)\n",
        "    label = img_label['label'].type(torch.uint8).to(device)\n",
        "    y_pred = model(img)\n",
        "    y_pred_label = torch.argmax(y_pred, dim=1)\n",
        "\n",
        "    train_labels.extend(label.cpu().detach())\n",
        "    train_preds.extend(y_pred_label.cpu().detach())\n",
        "\n",
        "    loss = criterion(y_pred, label)\n",
        "\n",
        "    optimizer.zero_grad()\n",
        "    loss.backward()\n",
        "    optimizer.step()\n",
        "\n",
        "    train_running_loss += loss.item()\n",
        "  train_loss = train_running_loss/ (idx+1)\n",
        "  train_f1 = f1_score(train_labels, train_preds, average='weighted')\n",
        "\n",
        "\n",
        "\n",
        "\n",
        "  model.eval()\n",
        "  val_labels = []\n",
        "  val_preds = []\n",
        "\n",
        "\n",
        "\n",
        "  val_running_loss = 0\n",
        "  with torch.no_grad():\n",
        "    for idx, img_label in enumerate(tqdm(val_dataloader, position = 0, leave =True )):\n",
        "      img = img_label['image'].float().to(device)\n",
        "      label = img_label['label'].type(torch.uint8).to(device)\n",
        "      y_pred = model(img)\n",
        "      y_pred_label = torch.argmax(y_pred, dim=1)\n",
        "\n",
        "      val_labels.extend(label.cpu().detach())\n",
        "      val_preds.extend(y_pred_label.cpu().detach())\n",
        "\n",
        "      loss += criterion(y_pred, label)\n",
        "      val_running_loss += loss.item()\n",
        "  val_loss = val_running_loss/ (idx+1)\n",
        "  val_f1 = f1_score(val_labels, val_preds, average='weighted')\n",
        "\n",
        "\n",
        "\n",
        "  train_accuracy = sum(1 for x,y in zip(train_preds, train_labels) if x == y)/len(train_labels)\n",
        "  val_accuracy=sum(1 for x,y in zip(val_preds, val_labels) if x == y)/len(val_labels)\n",
        "\n",
        "\n",
        "  # Almacenar los valores de pérdida y precisión en las listas correspondientes\n",
        "    # Inside your training loop:\n",
        "  train_losses.append(train_loss)\n",
        "  val_losses.append(val_loss)\n",
        "  train_f1_scores.append(train_f1)\n",
        "  val_f1_scores.append(val_f1)\n",
        "  train_accuracies.append(train_accuracy)\n",
        "  val_accuracies.append(val_accuracy)\n",
        "\n",
        "  print('-'*30)\n",
        "  print(f'Train Loss Epoch: {epoch+1}: {train_loss:.4f}')\n",
        "  print(f'Validation Loss Epoch: {epoch+1}: {val_loss:.4f}')\n",
        "  print('\\n')\n",
        "  print(f'Train Accuracy Epoch: {epoch+1}: {train_accuracy:.4f}')\n",
        "  print(f'Validation Accuracy Epoch: {epoch+1}: {val_accuracy:.4f}')\n",
        "  print(f'Train F1 Epoch: {epoch+1}: {train_f1:.4f}')\n",
        "  print(f'Validation F1 Epoch: {epoch+1}: {val_f1:.4f}')\n",
        "  print('-'*30)\n",
        "stop = timeit.default_timer()\n",
        "print(f'Training Time: {stop - start:.2f}s')\n"
      ],
      "metadata": {
        "colab": {
          "base_uri": "https://localhost:8080/"
        },
        "id": "j_2fUying0Nv",
        "outputId": "f061bc1a-3e4c-411c-fa85-c464d47e8357"
      },
      "execution_count": null,
      "outputs": [
        {
          "output_type": "stream",
          "name": "stderr",
          "text": [
            "100%|██████████| 188/188 [00:33<00:00,  5.60it/s]\n",
            "100%|██████████| 47/47 [00:02<00:00, 16.35it/s]\n",
            "  2%|▏         | 1/60 [00:42<41:32, 42.25s/it]"
          ]
        },
        {
          "output_type": "stream",
          "name": "stdout",
          "text": [
            "------------------------------\n",
            "Train Loss Epoch: 1: 2.1147\n",
            "Validation Loss Epoch: 1: 47.9211\n",
            "\n",
            "\n",
            "Train Accuracy Epoch: 1: 0.1934\n",
            "Validation Accuracy Epoch: 1: 0.2835\n",
            "Train F1 Epoch: 1: 0.1690\n",
            "Validation F1 Epoch: 1: 0.1988\n",
            "------------------------------\n"
          ]
        },
        {
          "output_type": "stream",
          "name": "stderr",
          "text": [
            "100%|██████████| 188/188 [00:32<00:00,  5.71it/s]\n",
            "100%|██████████| 47/47 [00:02<00:00, 17.27it/s]\n",
            "  3%|▎         | 2/60 [01:22<39:50, 41.21s/it]"
          ]
        },
        {
          "output_type": "stream",
          "name": "stdout",
          "text": [
            "------------------------------\n",
            "Train Loss Epoch: 2: 1.8373\n",
            "Validation Loss Epoch: 2: 38.6885\n",
            "\n",
            "\n",
            "Train Accuracy Epoch: 2: 0.3425\n",
            "Validation Accuracy Epoch: 2: 0.4592\n",
            "Train F1 Epoch: 2: 0.3044\n",
            "Validation F1 Epoch: 2: 0.4078\n",
            "------------------------------\n"
          ]
        },
        {
          "output_type": "stream",
          "name": "stderr",
          "text": [
            "100%|██████████| 188/188 [00:33<00:00,  5.62it/s]\n",
            "100%|██████████| 47/47 [00:02<00:00, 16.42it/s]\n",
            "  5%|▌         | 3/60 [02:03<38:53, 40.95s/it]"
          ]
        },
        {
          "output_type": "stream",
          "name": "stdout",
          "text": [
            "------------------------------\n",
            "Train Loss Epoch: 3: 1.6101\n",
            "Validation Loss Epoch: 3: 35.0781\n",
            "\n",
            "\n",
            "Train Accuracy Epoch: 3: 0.4302\n",
            "Validation Accuracy Epoch: 3: 0.5083\n",
            "Train F1 Epoch: 3: 0.4030\n",
            "Validation F1 Epoch: 3: 0.4589\n",
            "------------------------------\n"
          ]
        },
        {
          "output_type": "stream",
          "name": "stderr",
          "text": [
            "100%|██████████| 188/188 [00:33<00:00,  5.62it/s]\n",
            "100%|██████████| 47/47 [00:02<00:00, 16.99it/s]\n",
            "  7%|▋         | 4/60 [02:44<38:15, 41.00s/it]"
          ]
        },
        {
          "output_type": "stream",
          "name": "stdout",
          "text": [
            "------------------------------\n",
            "Train Loss Epoch: 4: 1.4758\n",
            "Validation Loss Epoch: 4: 32.6308\n",
            "\n",
            "\n",
            "Train Accuracy Epoch: 4: 0.4761\n",
            "Validation Accuracy Epoch: 4: 0.5427\n",
            "Train F1 Epoch: 4: 0.4549\n",
            "Validation F1 Epoch: 4: 0.5053\n",
            "------------------------------\n"
          ]
        },
        {
          "output_type": "stream",
          "name": "stderr",
          "text": [
            "100%|██████████| 188/188 [00:32<00:00,  5.72it/s]\n",
            "100%|██████████| 47/47 [00:03<00:00, 15.60it/s]\n",
            "  8%|▊         | 5/60 [03:25<37:31, 40.94s/it]"
          ]
        },
        {
          "output_type": "stream",
          "name": "stdout",
          "text": [
            "------------------------------\n",
            "Train Loss Epoch: 5: 1.3880\n",
            "Validation Loss Epoch: 5: 30.2878\n",
            "\n",
            "\n",
            "Train Accuracy Epoch: 5: 0.5005\n",
            "Validation Accuracy Epoch: 5: 0.5707\n",
            "Train F1 Epoch: 5: 0.4823\n",
            "Validation F1 Epoch: 5: 0.5330\n",
            "------------------------------\n"
          ]
        },
        {
          "output_type": "stream",
          "name": "stderr",
          "text": [
            "100%|██████████| 188/188 [00:33<00:00,  5.65it/s]\n",
            "100%|██████████| 47/47 [00:03<00:00, 13.79it/s]\n",
            " 10%|█         | 6/60 [04:06<37:01, 41.14s/it]"
          ]
        },
        {
          "output_type": "stream",
          "name": "stdout",
          "text": [
            "------------------------------\n",
            "Train Loss Epoch: 6: 1.3136\n",
            "Validation Loss Epoch: 6: 28.8521\n",
            "\n",
            "\n",
            "Train Accuracy Epoch: 6: 0.5217\n",
            "Validation Accuracy Epoch: 6: 0.5619\n",
            "Train F1 Epoch: 6: 0.5066\n",
            "Validation F1 Epoch: 6: 0.5159\n",
            "------------------------------\n"
          ]
        },
        {
          "output_type": "stream",
          "name": "stderr",
          "text": [
            "100%|██████████| 188/188 [00:32<00:00,  5.78it/s]\n",
            "100%|██████████| 47/47 [00:02<00:00, 16.69it/s]\n",
            " 12%|█▏        | 7/60 [04:47<36:16, 41.07s/it]"
          ]
        },
        {
          "output_type": "stream",
          "name": "stdout",
          "text": [
            "------------------------------\n",
            "Train Loss Epoch: 7: 1.2617\n",
            "Validation Loss Epoch: 7: 27.3804\n",
            "\n",
            "\n",
            "Train Accuracy Epoch: 7: 0.5353\n",
            "Validation Accuracy Epoch: 7: 0.5931\n",
            "Train F1 Epoch: 7: 0.5201\n",
            "Validation F1 Epoch: 7: 0.5551\n",
            "------------------------------\n"
          ]
        },
        {
          "output_type": "stream",
          "name": "stderr",
          "text": [
            "100%|██████████| 188/188 [00:33<00:00,  5.68it/s]\n",
            "100%|██████████| 47/47 [00:02<00:00, 16.98it/s]\n",
            " 13%|█▎        | 8/60 [05:28<35:29, 40.95s/it]"
          ]
        },
        {
          "output_type": "stream",
          "name": "stdout",
          "text": [
            "------------------------------\n",
            "Train Loss Epoch: 8: 1.2186\n",
            "Validation Loss Epoch: 8: 26.5359\n",
            "\n",
            "\n",
            "Train Accuracy Epoch: 8: 0.5474\n",
            "Validation Accuracy Epoch: 8: 0.6034\n",
            "Train F1 Epoch: 8: 0.5342\n",
            "Validation F1 Epoch: 8: 0.5600\n",
            "------------------------------\n"
          ]
        },
        {
          "output_type": "stream",
          "name": "stderr",
          "text": [
            "100%|██████████| 188/188 [00:32<00:00,  5.79it/s]\n",
            "100%|██████████| 47/47 [00:02<00:00, 17.54it/s]\n",
            " 15%|█▌        | 9/60 [06:08<34:30, 40.60s/it]"
          ]
        },
        {
          "output_type": "stream",
          "name": "stdout",
          "text": [
            "------------------------------\n",
            "Train Loss Epoch: 9: 1.1685\n",
            "Validation Loss Epoch: 9: 25.3559\n",
            "\n",
            "\n",
            "Train Accuracy Epoch: 9: 0.5660\n",
            "Validation Accuracy Epoch: 9: 0.6076\n",
            "Train F1 Epoch: 9: 0.5528\n",
            "Validation F1 Epoch: 9: 0.5651\n",
            "------------------------------\n"
          ]
        },
        {
          "output_type": "stream",
          "name": "stderr",
          "text": [
            "100%|██████████| 188/188 [00:32<00:00,  5.86it/s]\n",
            "100%|██████████| 47/47 [00:02<00:00, 17.40it/s]\n",
            " 17%|█▋        | 10/60 [06:47<33:27, 40.15s/it]"
          ]
        },
        {
          "output_type": "stream",
          "name": "stdout",
          "text": [
            "------------------------------\n",
            "Train Loss Epoch: 10: 1.1306\n",
            "Validation Loss Epoch: 10: 23.9548\n",
            "\n",
            "\n",
            "Train Accuracy Epoch: 10: 0.5785\n",
            "Validation Accuracy Epoch: 10: 0.6362\n",
            "Train F1 Epoch: 10: 0.5661\n",
            "Validation F1 Epoch: 10: 0.5999\n",
            "------------------------------\n"
          ]
        },
        {
          "output_type": "stream",
          "name": "stderr",
          "text": [
            "100%|██████████| 188/188 [00:32<00:00,  5.78it/s]\n",
            "100%|██████████| 47/47 [00:02<00:00, 18.01it/s]\n",
            " 18%|█▊        | 11/60 [07:26<32:37, 39.95s/it]"
          ]
        },
        {
          "output_type": "stream",
          "name": "stdout",
          "text": [
            "------------------------------\n",
            "Train Loss Epoch: 11: 1.0963\n",
            "Validation Loss Epoch: 11: 23.6890\n",
            "\n",
            "\n",
            "Train Accuracy Epoch: 11: 0.5930\n",
            "Validation Accuracy Epoch: 11: 0.6445\n",
            "Train F1 Epoch: 11: 0.5811\n",
            "Validation F1 Epoch: 11: 0.6073\n",
            "------------------------------\n"
          ]
        },
        {
          "output_type": "stream",
          "name": "stderr",
          "text": [
            "100%|██████████| 188/188 [00:32<00:00,  5.85it/s]\n",
            "100%|██████████| 47/47 [00:02<00:00, 17.83it/s]\n",
            " 20%|██        | 12/60 [08:06<31:45, 39.70s/it]"
          ]
        },
        {
          "output_type": "stream",
          "name": "stdout",
          "text": [
            "------------------------------\n",
            "Train Loss Epoch: 12: 1.0685\n",
            "Validation Loss Epoch: 12: 22.1710\n",
            "\n",
            "\n",
            "Train Accuracy Epoch: 12: 0.6035\n",
            "Validation Accuracy Epoch: 12: 0.6797\n",
            "Train F1 Epoch: 12: 0.5935\n",
            "Validation F1 Epoch: 12: 0.6507\n",
            "------------------------------\n"
          ]
        },
        {
          "output_type": "stream",
          "name": "stderr",
          "text": [
            "100%|██████████| 188/188 [00:32<00:00,  5.76it/s]\n",
            "100%|██████████| 47/47 [00:02<00:00, 17.44it/s]\n",
            " 22%|██▏       | 13/60 [08:46<31:16, 39.93s/it]"
          ]
        },
        {
          "output_type": "stream",
          "name": "stdout",
          "text": [
            "------------------------------\n",
            "Train Loss Epoch: 13: 1.0483\n",
            "Validation Loss Epoch: 13: 21.8913\n",
            "\n",
            "\n",
            "Train Accuracy Epoch: 13: 0.6081\n",
            "Validation Accuracy Epoch: 13: 0.6766\n",
            "Train F1 Epoch: 13: 0.5971\n",
            "Validation F1 Epoch: 13: 0.6444\n",
            "------------------------------\n"
          ]
        },
        {
          "output_type": "stream",
          "name": "stderr",
          "text": [
            "100%|██████████| 188/188 [00:31<00:00,  5.92it/s]\n",
            "100%|██████████| 47/47 [00:03<00:00, 15.01it/s]\n",
            " 23%|██▎       | 14/60 [09:26<30:34, 39.89s/it]"
          ]
        },
        {
          "output_type": "stream",
          "name": "stdout",
          "text": [
            "------------------------------\n",
            "Train Loss Epoch: 14: 1.0232\n",
            "Validation Loss Epoch: 14: 21.5017\n",
            "\n",
            "\n",
            "Train Accuracy Epoch: 14: 0.6206\n",
            "Validation Accuracy Epoch: 14: 0.6880\n",
            "Train F1 Epoch: 14: 0.6101\n",
            "Validation F1 Epoch: 14: 0.6669\n",
            "------------------------------\n"
          ]
        },
        {
          "output_type": "stream",
          "name": "stderr",
          "text": [
            "100%|██████████| 188/188 [00:32<00:00,  5.86it/s]\n",
            "100%|██████████| 47/47 [00:03<00:00, 14.69it/s]\n",
            " 25%|██▌       | 15/60 [10:06<30:01, 40.03s/it]"
          ]
        },
        {
          "output_type": "stream",
          "name": "stdout",
          "text": [
            "------------------------------\n",
            "Train Loss Epoch: 15: 0.9995\n",
            "Validation Loss Epoch: 15: 21.1034\n",
            "\n",
            "\n",
            "Train Accuracy Epoch: 15: 0.6289\n",
            "Validation Accuracy Epoch: 15: 0.6820\n",
            "Train F1 Epoch: 15: 0.6195\n",
            "Validation F1 Epoch: 15: 0.6564\n",
            "------------------------------\n"
          ]
        },
        {
          "output_type": "stream",
          "name": "stderr",
          "text": [
            "100%|██████████| 188/188 [00:32<00:00,  5.86it/s]\n",
            "100%|██████████| 47/47 [00:02<00:00, 17.12it/s]\n",
            " 27%|██▋       | 16/60 [10:46<29:25, 40.12s/it]"
          ]
        },
        {
          "output_type": "stream",
          "name": "stdout",
          "text": [
            "------------------------------\n",
            "Train Loss Epoch: 16: 0.9821\n",
            "Validation Loss Epoch: 16: 21.4399\n",
            "\n",
            "\n",
            "Train Accuracy Epoch: 16: 0.6342\n",
            "Validation Accuracy Epoch: 16: 0.6904\n",
            "Train F1 Epoch: 16: 0.6240\n",
            "Validation F1 Epoch: 16: 0.6597\n",
            "------------------------------\n"
          ]
        },
        {
          "output_type": "stream",
          "name": "stderr",
          "text": [
            "100%|██████████| 188/188 [00:31<00:00,  5.89it/s]\n",
            "100%|██████████| 47/47 [00:02<00:00, 17.65it/s]\n",
            " 28%|██▊       | 17/60 [11:26<28:41, 40.03s/it]"
          ]
        },
        {
          "output_type": "stream",
          "name": "stdout",
          "text": [
            "------------------------------\n",
            "Train Loss Epoch: 17: 0.9717\n",
            "Validation Loss Epoch: 17: 20.2991\n",
            "\n",
            "\n",
            "Train Accuracy Epoch: 17: 0.6378\n",
            "Validation Accuracy Epoch: 17: 0.6963\n",
            "Train F1 Epoch: 17: 0.6273\n",
            "Validation F1 Epoch: 17: 0.6730\n",
            "------------------------------\n"
          ]
        },
        {
          "output_type": "stream",
          "name": "stderr",
          "text": [
            "100%|██████████| 188/188 [00:32<00:00,  5.78it/s]\n",
            "100%|██████████| 47/47 [00:02<00:00, 17.65it/s]\n",
            " 30%|███       | 18/60 [12:06<27:59, 39.98s/it]"
          ]
        },
        {
          "output_type": "stream",
          "name": "stdout",
          "text": [
            "------------------------------\n",
            "Train Loss Epoch: 18: 0.9563\n",
            "Validation Loss Epoch: 18: 20.2620\n",
            "\n",
            "\n",
            "Train Accuracy Epoch: 18: 0.6425\n",
            "Validation Accuracy Epoch: 18: 0.6913\n",
            "Train F1 Epoch: 18: 0.6326\n",
            "Validation F1 Epoch: 18: 0.6598\n",
            "------------------------------\n"
          ]
        },
        {
          "output_type": "stream",
          "name": "stderr",
          "text": [
            "100%|██████████| 188/188 [00:32<00:00,  5.87it/s]\n",
            "100%|██████████| 47/47 [00:02<00:00, 17.64it/s]\n",
            " 32%|███▏      | 19/60 [12:45<27:07, 39.70s/it]"
          ]
        },
        {
          "output_type": "stream",
          "name": "stdout",
          "text": [
            "------------------------------\n",
            "Train Loss Epoch: 19: 0.9441\n",
            "Validation Loss Epoch: 19: 19.9871\n",
            "\n",
            "\n",
            "Train Accuracy Epoch: 19: 0.6449\n",
            "Validation Accuracy Epoch: 19: 0.7006\n",
            "Train F1 Epoch: 19: 0.6339\n",
            "Validation F1 Epoch: 19: 0.6753\n",
            "------------------------------\n"
          ]
        },
        {
          "output_type": "stream",
          "name": "stderr",
          "text": [
            "100%|██████████| 188/188 [00:32<00:00,  5.81it/s]\n",
            "100%|██████████| 47/47 [00:02<00:00, 17.27it/s]\n",
            " 33%|███▎      | 20/60 [13:25<26:25, 39.63s/it]"
          ]
        },
        {
          "output_type": "stream",
          "name": "stdout",
          "text": [
            "------------------------------\n",
            "Train Loss Epoch: 20: 0.9391\n",
            "Validation Loss Epoch: 20: 19.9027\n",
            "\n",
            "\n",
            "Train Accuracy Epoch: 20: 0.6466\n",
            "Validation Accuracy Epoch: 20: 0.6927\n",
            "Train F1 Epoch: 20: 0.6366\n",
            "Validation F1 Epoch: 20: 0.6639\n",
            "------------------------------\n"
          ]
        },
        {
          "output_type": "stream",
          "name": "stderr",
          "text": [
            "100%|██████████| 188/188 [00:37<00:00,  5.04it/s]\n",
            "100%|██████████| 47/47 [00:03<00:00, 14.60it/s]\n",
            " 35%|███▌      | 21/60 [14:10<26:53, 41.38s/it]"
          ]
        },
        {
          "output_type": "stream",
          "name": "stdout",
          "text": [
            "------------------------------\n",
            "Train Loss Epoch: 21: 0.9250\n",
            "Validation Loss Epoch: 21: 19.6146\n",
            "\n",
            "\n",
            "Train Accuracy Epoch: 21: 0.6542\n",
            "Validation Accuracy Epoch: 21: 0.7013\n",
            "Train F1 Epoch: 21: 0.6429\n",
            "Validation F1 Epoch: 21: 0.6749\n",
            "------------------------------\n"
          ]
        },
        {
          "output_type": "stream",
          "name": "stderr",
          "text": [
            "100%|██████████| 188/188 [00:31<00:00,  5.89it/s]\n",
            "100%|██████████| 47/47 [00:03<00:00, 14.72it/s]\n",
            " 37%|███▋      | 22/60 [14:51<26:01, 41.09s/it]"
          ]
        },
        {
          "output_type": "stream",
          "name": "stdout",
          "text": [
            "------------------------------\n",
            "Train Loss Epoch: 22: 0.9125\n",
            "Validation Loss Epoch: 22: 19.7148\n",
            "\n",
            "\n",
            "Train Accuracy Epoch: 22: 0.6557\n",
            "Validation Accuracy Epoch: 22: 0.7047\n",
            "Train F1 Epoch: 22: 0.6456\n",
            "Validation F1 Epoch: 22: 0.6744\n",
            "------------------------------\n"
          ]
        },
        {
          "output_type": "stream",
          "name": "stderr",
          "text": [
            "100%|██████████| 188/188 [00:32<00:00,  5.80it/s]\n",
            "100%|██████████| 47/47 [00:02<00:00, 17.31it/s]\n",
            " 38%|███▊      | 23/60 [15:31<25:17, 41.02s/it]"
          ]
        },
        {
          "output_type": "stream",
          "name": "stdout",
          "text": [
            "------------------------------\n",
            "Train Loss Epoch: 23: 0.9017\n",
            "Validation Loss Epoch: 23: 19.6458\n",
            "\n",
            "\n",
            "Train Accuracy Epoch: 23: 0.6617\n",
            "Validation Accuracy Epoch: 23: 0.7039\n",
            "Train F1 Epoch: 23: 0.6503\n",
            "Validation F1 Epoch: 23: 0.6693\n",
            "------------------------------\n"
          ]
        },
        {
          "output_type": "stream",
          "name": "stderr",
          "text": [
            "100%|██████████| 188/188 [00:31<00:00,  5.96it/s]\n",
            "100%|██████████| 47/47 [00:02<00:00, 17.72it/s]\n",
            " 40%|████      | 24/60 [16:11<24:25, 40.70s/it]"
          ]
        },
        {
          "output_type": "stream",
          "name": "stdout",
          "text": [
            "------------------------------\n",
            "Train Loss Epoch: 24: 0.8983\n",
            "Validation Loss Epoch: 24: 19.3444\n",
            "\n",
            "\n",
            "Train Accuracy Epoch: 24: 0.6611\n",
            "Validation Accuracy Epoch: 24: 0.7003\n",
            "Train F1 Epoch: 24: 0.6501\n",
            "Validation F1 Epoch: 24: 0.6745\n",
            "------------------------------\n"
          ]
        },
        {
          "output_type": "stream",
          "name": "stderr",
          "text": [
            "100%|██████████| 188/188 [00:32<00:00,  5.83it/s]\n",
            "100%|██████████| 47/47 [00:02<00:00, 17.81it/s]\n",
            " 42%|████▏     | 25/60 [16:51<23:35, 40.43s/it]"
          ]
        },
        {
          "output_type": "stream",
          "name": "stdout",
          "text": [
            "------------------------------\n",
            "Train Loss Epoch: 25: 0.8936\n",
            "Validation Loss Epoch: 25: 18.7811\n",
            "\n",
            "\n",
            "Train Accuracy Epoch: 25: 0.6634\n",
            "Validation Accuracy Epoch: 25: 0.7151\n",
            "Train F1 Epoch: 25: 0.6522\n",
            "Validation F1 Epoch: 25: 0.6845\n",
            "------------------------------\n"
          ]
        },
        {
          "output_type": "stream",
          "name": "stderr",
          "text": [
            "100%|██████████| 188/188 [00:32<00:00,  5.79it/s]\n",
            "100%|██████████| 47/47 [00:02<00:00, 17.60it/s]\n",
            " 43%|████▎     | 26/60 [17:31<22:46, 40.18s/it]"
          ]
        },
        {
          "output_type": "stream",
          "name": "stdout",
          "text": [
            "------------------------------\n",
            "Train Loss Epoch: 26: 0.8863\n",
            "Validation Loss Epoch: 26: 18.8174\n",
            "\n",
            "\n",
            "Train Accuracy Epoch: 26: 0.6679\n",
            "Validation Accuracy Epoch: 26: 0.7102\n",
            "Train F1 Epoch: 26: 0.6560\n",
            "Validation F1 Epoch: 26: 0.6811\n",
            "------------------------------\n"
          ]
        },
        {
          "output_type": "stream",
          "name": "stderr",
          "text": [
            "100%|██████████| 188/188 [00:32<00:00,  5.84it/s]\n",
            "100%|██████████| 47/47 [00:03<00:00, 11.93it/s]\n",
            " 45%|████▌     | 27/60 [18:14<22:37, 41.14s/it]"
          ]
        },
        {
          "output_type": "stream",
          "name": "stdout",
          "text": [
            "------------------------------\n",
            "Train Loss Epoch: 27: 0.8755\n",
            "Validation Loss Epoch: 27: 19.0774\n",
            "\n",
            "\n",
            "Train Accuracy Epoch: 27: 0.6681\n",
            "Validation Accuracy Epoch: 27: 0.7102\n",
            "Train F1 Epoch: 27: 0.6573\n",
            "Validation F1 Epoch: 27: 0.6804\n",
            "------------------------------\n"
          ]
        },
        {
          "output_type": "stream",
          "name": "stderr",
          "text": [
            "100%|██████████| 188/188 [00:45<00:00,  4.11it/s]\n",
            "100%|██████████| 47/47 [00:02<00:00, 16.05it/s]\n",
            " 47%|████▋     | 28/60 [19:08<24:00, 45.01s/it]"
          ]
        },
        {
          "output_type": "stream",
          "name": "stdout",
          "text": [
            "------------------------------\n",
            "Train Loss Epoch: 28: 0.8697\n",
            "Validation Loss Epoch: 28: 18.4014\n",
            "\n",
            "\n",
            "Train Accuracy Epoch: 28: 0.6733\n",
            "Validation Accuracy Epoch: 28: 0.7147\n",
            "Train F1 Epoch: 28: 0.6618\n",
            "Validation F1 Epoch: 28: 0.6884\n",
            "------------------------------\n"
          ]
        },
        {
          "output_type": "stream",
          "name": "stderr",
          "text": [
            "100%|██████████| 188/188 [00:39<00:00,  4.76it/s]\n",
            "100%|██████████| 47/47 [00:02<00:00, 17.66it/s]\n",
            " 48%|████▊     | 29/60 [19:55<23:33, 45.60s/it]"
          ]
        },
        {
          "output_type": "stream",
          "name": "stdout",
          "text": [
            "------------------------------\n",
            "Train Loss Epoch: 29: 0.8658\n",
            "Validation Loss Epoch: 29: 18.5373\n",
            "\n",
            "\n",
            "Train Accuracy Epoch: 29: 0.6728\n",
            "Validation Accuracy Epoch: 29: 0.7179\n",
            "Train F1 Epoch: 29: 0.6611\n",
            "Validation F1 Epoch: 29: 0.6857\n",
            "------------------------------\n"
          ]
        },
        {
          "output_type": "stream",
          "name": "stderr",
          "text": [
            "100%|██████████| 188/188 [00:32<00:00,  5.81it/s]\n",
            "100%|██████████| 47/47 [00:02<00:00, 17.18it/s]\n",
            " 50%|█████     | 30/60 [20:35<21:54, 43.80s/it]"
          ]
        },
        {
          "output_type": "stream",
          "name": "stdout",
          "text": [
            "------------------------------\n",
            "Train Loss Epoch: 30: 0.8586\n",
            "Validation Loss Epoch: 30: 18.1477\n",
            "\n",
            "\n",
            "Train Accuracy Epoch: 30: 0.6762\n",
            "Validation Accuracy Epoch: 30: 0.7223\n",
            "Train F1 Epoch: 30: 0.6632\n",
            "Validation F1 Epoch: 30: 0.6954\n",
            "------------------------------\n"
          ]
        },
        {
          "output_type": "stream",
          "name": "stderr",
          "text": [
            "100%|██████████| 188/188 [00:32<00:00,  5.71it/s]\n",
            "100%|██████████| 47/47 [00:02<00:00, 17.26it/s]\n",
            " 52%|█████▏    | 31/60 [21:15<20:38, 42.69s/it]"
          ]
        },
        {
          "output_type": "stream",
          "name": "stdout",
          "text": [
            "------------------------------\n",
            "Train Loss Epoch: 31: 0.8525\n",
            "Validation Loss Epoch: 31: 18.8469\n",
            "\n",
            "\n",
            "Train Accuracy Epoch: 31: 0.6785\n",
            "Validation Accuracy Epoch: 31: 0.7047\n",
            "Train F1 Epoch: 31: 0.6667\n",
            "Validation F1 Epoch: 31: 0.6778\n",
            "------------------------------\n"
          ]
        },
        {
          "output_type": "stream",
          "name": "stderr",
          "text": [
            "100%|██████████| 188/188 [00:32<00:00,  5.76it/s]\n",
            "100%|██████████| 47/47 [00:02<00:00, 16.78it/s]\n",
            " 53%|█████▎    | 32/60 [21:56<19:38, 42.09s/it]"
          ]
        },
        {
          "output_type": "stream",
          "name": "stdout",
          "text": [
            "------------------------------\n",
            "Train Loss Epoch: 32: 0.8471\n",
            "Validation Loss Epoch: 32: 17.8387\n",
            "\n",
            "\n",
            "Train Accuracy Epoch: 32: 0.6799\n",
            "Validation Accuracy Epoch: 32: 0.7210\n",
            "Train F1 Epoch: 32: 0.6678\n",
            "Validation F1 Epoch: 32: 0.6923\n",
            "------------------------------\n"
          ]
        },
        {
          "output_type": "stream",
          "name": "stderr",
          "text": [
            "100%|██████████| 188/188 [00:32<00:00,  5.80it/s]\n",
            "100%|██████████| 47/47 [00:03<00:00, 13.18it/s]\n",
            " 55%|█████▌    | 33/60 [22:36<18:42, 41.58s/it]"
          ]
        },
        {
          "output_type": "stream",
          "name": "stdout",
          "text": [
            "------------------------------\n",
            "Train Loss Epoch: 33: 0.8448\n",
            "Validation Loss Epoch: 33: 17.8499\n",
            "\n",
            "\n",
            "Train Accuracy Epoch: 33: 0.6782\n",
            "Validation Accuracy Epoch: 33: 0.7213\n",
            "Train F1 Epoch: 33: 0.6661\n",
            "Validation F1 Epoch: 33: 0.6953\n",
            "------------------------------\n"
          ]
        },
        {
          "output_type": "stream",
          "name": "stderr",
          "text": [
            "100%|██████████| 188/188 [00:32<00:00,  5.76it/s]\n",
            "100%|██████████| 47/47 [00:05<00:00,  8.24it/s]\n",
            " 57%|█████▋    | 34/60 [23:21<18:27, 42.61s/it]"
          ]
        },
        {
          "output_type": "stream",
          "name": "stdout",
          "text": [
            "------------------------------\n",
            "Train Loss Epoch: 34: 0.8382\n",
            "Validation Loss Epoch: 34: 18.2353\n",
            "\n",
            "\n",
            "Train Accuracy Epoch: 34: 0.6825\n",
            "Validation Accuracy Epoch: 34: 0.7151\n",
            "Train F1 Epoch: 34: 0.6711\n",
            "Validation F1 Epoch: 34: 0.6866\n",
            "------------------------------\n"
          ]
        },
        {
          "output_type": "stream",
          "name": "stderr",
          "text": [
            "100%|██████████| 188/188 [00:49<00:00,  3.82it/s]\n",
            "100%|██████████| 47/47 [00:04<00:00, 11.01it/s]\n",
            " 58%|█████▊    | 35/60 [24:20<19:45, 47.44s/it]"
          ]
        },
        {
          "output_type": "stream",
          "name": "stdout",
          "text": [
            "------------------------------\n",
            "Train Loss Epoch: 35: 0.8378\n",
            "Validation Loss Epoch: 35: 17.8969\n",
            "\n",
            "\n",
            "Train Accuracy Epoch: 35: 0.6826\n",
            "Validation Accuracy Epoch: 35: 0.7247\n",
            "Train F1 Epoch: 35: 0.6700\n",
            "Validation F1 Epoch: 35: 0.6969\n",
            "------------------------------\n"
          ]
        },
        {
          "output_type": "stream",
          "name": "stderr",
          "text": [
            "100%|██████████| 188/188 [00:37<00:00,  5.02it/s]\n",
            "100%|██████████| 47/47 [00:02<00:00, 17.62it/s]\n",
            " 60%|██████    | 36/60 [25:06<18:47, 46.96s/it]"
          ]
        },
        {
          "output_type": "stream",
          "name": "stdout",
          "text": [
            "------------------------------\n",
            "Train Loss Epoch: 36: 0.8297\n",
            "Validation Loss Epoch: 36: 17.7425\n",
            "\n",
            "\n",
            "Train Accuracy Epoch: 36: 0.6864\n",
            "Validation Accuracy Epoch: 36: 0.7322\n",
            "Train F1 Epoch: 36: 0.6751\n",
            "Validation F1 Epoch: 36: 0.7066\n",
            "------------------------------\n"
          ]
        },
        {
          "output_type": "stream",
          "name": "stderr",
          "text": [
            "100%|██████████| 188/188 [00:32<00:00,  5.82it/s]\n",
            "100%|██████████| 47/47 [00:02<00:00, 17.19it/s]\n",
            " 62%|██████▏   | 37/60 [25:46<17:15, 45.00s/it]"
          ]
        },
        {
          "output_type": "stream",
          "name": "stdout",
          "text": [
            "------------------------------\n",
            "Train Loss Epoch: 37: 0.8272\n",
            "Validation Loss Epoch: 37: 18.9816\n",
            "\n",
            "\n",
            "Train Accuracy Epoch: 37: 0.6881\n",
            "Validation Accuracy Epoch: 37: 0.7115\n",
            "Train F1 Epoch: 37: 0.6762\n",
            "Validation F1 Epoch: 37: 0.6788\n",
            "------------------------------\n"
          ]
        },
        {
          "output_type": "stream",
          "name": "stderr",
          "text": [
            "100%|██████████| 188/188 [00:33<00:00,  5.64it/s]\n",
            "100%|██████████| 47/47 [00:02<00:00, 17.47it/s]\n",
            " 63%|██████▎   | 38/60 [26:26<16:00, 43.66s/it]"
          ]
        },
        {
          "output_type": "stream",
          "name": "stdout",
          "text": [
            "------------------------------\n",
            "Train Loss Epoch: 38: 0.8163\n",
            "Validation Loss Epoch: 38: 17.4533\n",
            "\n",
            "\n",
            "Train Accuracy Epoch: 38: 0.6910\n",
            "Validation Accuracy Epoch: 38: 0.7274\n",
            "Train F1 Epoch: 38: 0.6788\n",
            "Validation F1 Epoch: 38: 0.7018\n",
            "------------------------------\n"
          ]
        },
        {
          "output_type": "stream",
          "name": "stderr",
          "text": [
            "100%|██████████| 188/188 [00:33<00:00,  5.61it/s]\n",
            "100%|██████████| 47/47 [00:02<00:00, 17.33it/s]\n",
            " 65%|██████▌   | 39/60 [27:07<14:58, 42.78s/it]"
          ]
        },
        {
          "output_type": "stream",
          "name": "stdout",
          "text": [
            "------------------------------\n",
            "Train Loss Epoch: 39: 0.8184\n",
            "Validation Loss Epoch: 39: 17.8157\n",
            "\n",
            "\n",
            "Train Accuracy Epoch: 39: 0.6890\n",
            "Validation Accuracy Epoch: 39: 0.7253\n",
            "Train F1 Epoch: 39: 0.6765\n",
            "Validation F1 Epoch: 39: 0.6995\n",
            "------------------------------\n"
          ]
        },
        {
          "output_type": "stream",
          "name": "stderr",
          "text": [
            "100%|██████████| 188/188 [00:32<00:00,  5.79it/s]\n",
            "100%|██████████| 47/47 [00:02<00:00, 16.17it/s]\n",
            " 67%|██████▋   | 40/60 [27:48<14:01, 42.09s/it]"
          ]
        },
        {
          "output_type": "stream",
          "name": "stdout",
          "text": [
            "------------------------------\n",
            "Train Loss Epoch: 40: 0.8130\n",
            "Validation Loss Epoch: 40: 17.6890\n",
            "\n",
            "\n",
            "Train Accuracy Epoch: 40: 0.6936\n",
            "Validation Accuracy Epoch: 40: 0.7316\n",
            "Train F1 Epoch: 40: 0.6818\n",
            "Validation F1 Epoch: 40: 0.7064\n",
            "------------------------------\n"
          ]
        },
        {
          "output_type": "stream",
          "name": "stderr",
          "text": [
            "100%|██████████| 188/188 [00:35<00:00,  5.33it/s]\n",
            "100%|██████████| 47/47 [00:02<00:00, 15.72it/s]\n",
            " 68%|██████▊   | 41/60 [28:31<13:28, 42.53s/it]"
          ]
        },
        {
          "output_type": "stream",
          "name": "stdout",
          "text": [
            "------------------------------\n",
            "Train Loss Epoch: 41: 0.8100\n",
            "Validation Loss Epoch: 41: 18.2452\n",
            "\n",
            "\n",
            "Train Accuracy Epoch: 41: 0.6941\n",
            "Validation Accuracy Epoch: 41: 0.7221\n",
            "Train F1 Epoch: 41: 0.6824\n",
            "Validation F1 Epoch: 41: 0.6908\n",
            "------------------------------\n"
          ]
        },
        {
          "output_type": "stream",
          "name": "stderr",
          "text": [
            "100%|██████████| 188/188 [00:31<00:00,  5.89it/s]\n",
            "100%|██████████| 47/47 [00:02<00:00, 17.83it/s]\n",
            " 70%|███████   | 42/60 [29:11<12:31, 41.74s/it]"
          ]
        },
        {
          "output_type": "stream",
          "name": "stdout",
          "text": [
            "------------------------------\n",
            "Train Loss Epoch: 42: 0.8022\n",
            "Validation Loss Epoch: 42: 17.5339\n",
            "\n",
            "\n",
            "Train Accuracy Epoch: 42: 0.6951\n",
            "Validation Accuracy Epoch: 42: 0.7303\n",
            "Train F1 Epoch: 42: 0.6823\n",
            "Validation F1 Epoch: 42: 0.7041\n",
            "------------------------------\n"
          ]
        },
        {
          "output_type": "stream",
          "name": "stderr",
          "text": [
            "100%|██████████| 188/188 [00:31<00:00,  5.90it/s]\n",
            "100%|██████████| 47/47 [00:02<00:00, 17.66it/s]\n",
            " 72%|███████▏  | 43/60 [29:51<11:38, 41.07s/it]"
          ]
        },
        {
          "output_type": "stream",
          "name": "stdout",
          "text": [
            "------------------------------\n",
            "Train Loss Epoch: 43: 0.8019\n",
            "Validation Loss Epoch: 43: 17.0666\n",
            "\n",
            "\n",
            "Train Accuracy Epoch: 43: 0.6976\n",
            "Validation Accuracy Epoch: 43: 0.7392\n",
            "Train F1 Epoch: 43: 0.6860\n",
            "Validation F1 Epoch: 43: 0.7121\n",
            "------------------------------\n"
          ]
        },
        {
          "output_type": "stream",
          "name": "stderr",
          "text": [
            "100%|██████████| 188/188 [00:32<00:00,  5.78it/s]\n",
            "100%|██████████| 47/47 [00:02<00:00, 17.62it/s]\n",
            " 73%|███████▎  | 44/60 [30:30<10:49, 40.62s/it]"
          ]
        },
        {
          "output_type": "stream",
          "name": "stdout",
          "text": [
            "------------------------------\n",
            "Train Loss Epoch: 44: 0.7993\n",
            "Validation Loss Epoch: 44: 17.7324\n",
            "\n",
            "\n",
            "Train Accuracy Epoch: 44: 0.6985\n",
            "Validation Accuracy Epoch: 44: 0.7278\n",
            "Train F1 Epoch: 44: 0.6862\n",
            "Validation F1 Epoch: 44: 0.7001\n",
            "------------------------------\n"
          ]
        },
        {
          "output_type": "stream",
          "name": "stderr",
          "text": [
            "100%|██████████| 188/188 [00:32<00:00,  5.80it/s]\n",
            "100%|██████████| 47/47 [00:02<00:00, 17.32it/s]\n",
            " 75%|███████▌  | 45/60 [31:10<10:05, 40.38s/it]"
          ]
        },
        {
          "output_type": "stream",
          "name": "stdout",
          "text": [
            "------------------------------\n",
            "Train Loss Epoch: 45: 0.7952\n",
            "Validation Loss Epoch: 45: 17.8052\n",
            "\n",
            "\n",
            "Train Accuracy Epoch: 45: 0.6990\n",
            "Validation Accuracy Epoch: 45: 0.7244\n",
            "Train F1 Epoch: 45: 0.6869\n",
            "Validation F1 Epoch: 45: 0.6947\n",
            "------------------------------\n"
          ]
        },
        {
          "output_type": "stream",
          "name": "stderr",
          "text": [
            "100%|██████████| 188/188 [00:32<00:00,  5.86it/s]\n",
            "100%|██████████| 47/47 [00:02<00:00, 17.84it/s]\n",
            " 77%|███████▋  | 46/60 [31:49<09:20, 40.04s/it]"
          ]
        },
        {
          "output_type": "stream",
          "name": "stdout",
          "text": [
            "------------------------------\n",
            "Train Loss Epoch: 46: 0.7933\n",
            "Validation Loss Epoch: 46: 17.1613\n",
            "\n",
            "\n",
            "Train Accuracy Epoch: 46: 0.7015\n",
            "Validation Accuracy Epoch: 46: 0.7360\n",
            "Train F1 Epoch: 46: 0.6891\n",
            "Validation F1 Epoch: 46: 0.7068\n",
            "------------------------------\n"
          ]
        },
        {
          "output_type": "stream",
          "name": "stderr",
          "text": [
            "100%|██████████| 188/188 [00:32<00:00,  5.80it/s]\n",
            "100%|██████████| 47/47 [00:02<00:00, 17.81it/s]\n",
            " 78%|███████▊  | 47/60 [32:29<08:39, 39.93s/it]"
          ]
        },
        {
          "output_type": "stream",
          "name": "stdout",
          "text": [
            "------------------------------\n",
            "Train Loss Epoch: 47: 0.7866\n",
            "Validation Loss Epoch: 47: 18.2600\n",
            "\n",
            "\n",
            "Train Accuracy Epoch: 47: 0.7025\n",
            "Validation Accuracy Epoch: 47: 0.7163\n",
            "Train F1 Epoch: 47: 0.6904\n",
            "Validation F1 Epoch: 47: 0.6919\n",
            "------------------------------\n"
          ]
        },
        {
          "output_type": "stream",
          "name": "stderr",
          "text": [
            "100%|██████████| 188/188 [00:32<00:00,  5.87it/s]\n",
            "100%|██████████| 47/47 [00:02<00:00, 16.40it/s]\n",
            " 80%|████████  | 48/60 [33:09<08:00, 40.00s/it]"
          ]
        },
        {
          "output_type": "stream",
          "name": "stdout",
          "text": [
            "------------------------------\n",
            "Train Loss Epoch: 48: 0.7836\n",
            "Validation Loss Epoch: 48: 17.4973\n",
            "\n",
            "\n",
            "Train Accuracy Epoch: 48: 0.7034\n",
            "Validation Accuracy Epoch: 48: 0.7328\n",
            "Train F1 Epoch: 48: 0.6916\n",
            "Validation F1 Epoch: 48: 0.7073\n",
            "------------------------------\n"
          ]
        },
        {
          "output_type": "stream",
          "name": "stderr",
          "text": [
            "100%|██████████| 188/188 [00:32<00:00,  5.87it/s]\n",
            "100%|██████████| 47/47 [00:03<00:00, 13.21it/s]\n",
            " 82%|████████▏ | 49/60 [33:49<07:20, 40.05s/it]"
          ]
        },
        {
          "output_type": "stream",
          "name": "stdout",
          "text": [
            "------------------------------\n",
            "Train Loss Epoch: 49: 0.7846\n",
            "Validation Loss Epoch: 49: 17.3996\n",
            "\n",
            "\n",
            "Train Accuracy Epoch: 49: 0.7049\n",
            "Validation Accuracy Epoch: 49: 0.7323\n",
            "Train F1 Epoch: 49: 0.6928\n",
            "Validation F1 Epoch: 49: 0.7076\n",
            "------------------------------\n"
          ]
        },
        {
          "output_type": "stream",
          "name": "stderr",
          "text": [
            "100%|██████████| 188/188 [00:31<00:00,  5.90it/s]\n",
            "100%|██████████| 47/47 [00:03<00:00, 13.88it/s]\n",
            " 83%|████████▎ | 50/60 [34:29<06:40, 40.01s/it]"
          ]
        },
        {
          "output_type": "stream",
          "name": "stdout",
          "text": [
            "------------------------------\n",
            "Train Loss Epoch: 50: 0.7818\n",
            "Validation Loss Epoch: 50: 16.9825\n",
            "\n",
            "\n",
            "Train Accuracy Epoch: 50: 0.7063\n",
            "Validation Accuracy Epoch: 50: 0.7388\n",
            "Train F1 Epoch: 50: 0.6945\n",
            "Validation F1 Epoch: 50: 0.7104\n",
            "------------------------------\n"
          ]
        },
        {
          "output_type": "stream",
          "name": "stderr",
          "text": [
            "100%|██████████| 188/188 [00:33<00:00,  5.58it/s]\n",
            "100%|██████████| 47/47 [00:05<00:00,  9.15it/s]\n",
            " 85%|████████▌ | 51/60 [35:15<06:15, 41.75s/it]"
          ]
        },
        {
          "output_type": "stream",
          "name": "stdout",
          "text": [
            "------------------------------\n",
            "Train Loss Epoch: 51: 0.7751\n",
            "Validation Loss Epoch: 51: 17.3158\n",
            "\n",
            "\n",
            "Train Accuracy Epoch: 51: 0.7088\n",
            "Validation Accuracy Epoch: 51: 0.7356\n",
            "Train F1 Epoch: 51: 0.6962\n",
            "Validation F1 Epoch: 51: 0.7071\n",
            "------------------------------\n"
          ]
        },
        {
          "output_type": "stream",
          "name": "stderr",
          "text": [
            "100%|██████████| 188/188 [00:35<00:00,  5.25it/s]\n",
            "100%|██████████| 47/47 [00:02<00:00, 16.59it/s]\n",
            " 87%|████████▋ | 52/60 [35:59<05:39, 42.43s/it]"
          ]
        },
        {
          "output_type": "stream",
          "name": "stdout",
          "text": [
            "------------------------------\n",
            "Train Loss Epoch: 52: 0.7779\n",
            "Validation Loss Epoch: 52: 16.9609\n",
            "\n",
            "\n",
            "Train Accuracy Epoch: 52: 0.7071\n",
            "Validation Accuracy Epoch: 52: 0.7409\n",
            "Train F1 Epoch: 52: 0.6949\n",
            "Validation F1 Epoch: 52: 0.7165\n",
            "------------------------------\n"
          ]
        },
        {
          "output_type": "stream",
          "name": "stderr",
          "text": [
            "100%|██████████| 188/188 [00:31<00:00,  5.97it/s]\n",
            "100%|██████████| 47/47 [00:03<00:00, 14.19it/s]\n",
            " 88%|████████▊ | 53/60 [36:38<04:50, 41.53s/it]"
          ]
        },
        {
          "output_type": "stream",
          "name": "stdout",
          "text": [
            "------------------------------\n",
            "Train Loss Epoch: 53: 0.7656\n",
            "Validation Loss Epoch: 53: 17.0735\n",
            "\n",
            "\n",
            "Train Accuracy Epoch: 53: 0.7096\n",
            "Validation Accuracy Epoch: 53: 0.7391\n",
            "Train F1 Epoch: 53: 0.6978\n",
            "Validation F1 Epoch: 53: 0.7116\n",
            "------------------------------\n"
          ]
        },
        {
          "output_type": "stream",
          "name": "stderr",
          "text": [
            "100%|██████████| 188/188 [00:31<00:00,  5.88it/s]\n",
            "100%|██████████| 47/47 [00:03<00:00, 13.59it/s]\n",
            " 90%|█████████ | 54/60 [37:18<04:06, 41.04s/it]"
          ]
        },
        {
          "output_type": "stream",
          "name": "stdout",
          "text": [
            "------------------------------\n",
            "Train Loss Epoch: 54: 0.7636\n",
            "Validation Loss Epoch: 54: 17.2674\n",
            "\n",
            "\n",
            "Train Accuracy Epoch: 54: 0.7122\n",
            "Validation Accuracy Epoch: 54: 0.7378\n",
            "Train F1 Epoch: 54: 0.7001\n",
            "Validation F1 Epoch: 54: 0.7118\n",
            "------------------------------\n"
          ]
        },
        {
          "output_type": "stream",
          "name": "stderr",
          "text": [
            "100%|██████████| 188/188 [00:31<00:00,  6.00it/s]\n",
            "100%|██████████| 47/47 [00:02<00:00, 16.77it/s]\n",
            " 92%|█████████▏| 55/60 [37:58<03:22, 40.55s/it]"
          ]
        },
        {
          "output_type": "stream",
          "name": "stdout",
          "text": [
            "------------------------------\n",
            "Train Loss Epoch: 55: 0.7631\n",
            "Validation Loss Epoch: 55: 16.8752\n",
            "\n",
            "\n",
            "Train Accuracy Epoch: 55: 0.7116\n",
            "Validation Accuracy Epoch: 55: 0.7384\n",
            "Train F1 Epoch: 55: 0.6994\n",
            "Validation F1 Epoch: 55: 0.7093\n",
            "------------------------------\n"
          ]
        },
        {
          "output_type": "stream",
          "name": "stderr",
          "text": [
            "100%|██████████| 188/188 [00:31<00:00,  5.93it/s]\n",
            "100%|██████████| 47/47 [00:02<00:00, 17.78it/s]\n",
            " 93%|█████████▎| 56/60 [38:38<02:41, 40.32s/it]"
          ]
        },
        {
          "output_type": "stream",
          "name": "stdout",
          "text": [
            "------------------------------\n",
            "Train Loss Epoch: 56: 0.7627\n",
            "Validation Loss Epoch: 56: 16.5243\n",
            "\n",
            "\n",
            "Train Accuracy Epoch: 56: 0.7134\n",
            "Validation Accuracy Epoch: 56: 0.7481\n",
            "Train F1 Epoch: 56: 0.7026\n",
            "Validation F1 Epoch: 56: 0.7187\n",
            "------------------------------\n"
          ]
        },
        {
          "output_type": "stream",
          "name": "stderr",
          "text": [
            "100%|██████████| 188/188 [00:31<00:00,  5.91it/s]\n",
            "100%|██████████| 47/47 [00:02<00:00, 16.79it/s]\n",
            " 95%|█████████▌| 57/60 [39:17<02:00, 40.13s/it]"
          ]
        },
        {
          "output_type": "stream",
          "name": "stdout",
          "text": [
            "------------------------------\n",
            "Train Loss Epoch: 57: 0.7607\n",
            "Validation Loss Epoch: 57: 16.8328\n",
            "\n",
            "\n",
            "Train Accuracy Epoch: 57: 0.7133\n",
            "Validation Accuracy Epoch: 57: 0.7449\n",
            "Train F1 Epoch: 57: 0.7026\n",
            "Validation F1 Epoch: 57: 0.7168\n",
            "------------------------------\n"
          ]
        },
        {
          "output_type": "stream",
          "name": "stderr",
          "text": [
            "100%|██████████| 188/188 [00:32<00:00,  5.84it/s]\n",
            "100%|██████████| 47/47 [00:02<00:00, 17.88it/s]\n",
            " 97%|█████████▋| 58/60 [39:57<01:19, 39.87s/it]"
          ]
        },
        {
          "output_type": "stream",
          "name": "stdout",
          "text": [
            "------------------------------\n",
            "Train Loss Epoch: 58: 0.7574\n",
            "Validation Loss Epoch: 58: 16.3349\n",
            "\n",
            "\n",
            "Train Accuracy Epoch: 58: 0.7152\n",
            "Validation Accuracy Epoch: 58: 0.7535\n",
            "Train F1 Epoch: 58: 0.7039\n",
            "Validation F1 Epoch: 58: 0.7316\n",
            "------------------------------\n"
          ]
        },
        {
          "output_type": "stream",
          "name": "stderr",
          "text": [
            "100%|██████████| 188/188 [00:32<00:00,  5.80it/s]\n",
            "100%|██████████| 47/47 [00:02<00:00, 18.03it/s]\n",
            " 98%|█████████▊| 59/60 [40:36<00:39, 39.74s/it]"
          ]
        },
        {
          "output_type": "stream",
          "name": "stdout",
          "text": [
            "------------------------------\n",
            "Train Loss Epoch: 59: 0.7585\n",
            "Validation Loss Epoch: 59: 16.0674\n",
            "\n",
            "\n",
            "Train Accuracy Epoch: 59: 0.7155\n",
            "Validation Accuracy Epoch: 59: 0.7488\n",
            "Train F1 Epoch: 59: 0.7050\n",
            "Validation F1 Epoch: 59: 0.7226\n",
            "------------------------------\n"
          ]
        },
        {
          "output_type": "stream",
          "name": "stderr",
          "text": [
            "100%|██████████| 188/188 [00:32<00:00,  5.84it/s]\n",
            "100%|██████████| 47/47 [00:02<00:00, 17.47it/s]\n",
            "100%|██████████| 60/60 [41:15<00:00, 41.26s/it]"
          ]
        },
        {
          "output_type": "stream",
          "name": "stdout",
          "text": [
            "------------------------------\n",
            "Train Loss Epoch: 60: 0.7532\n",
            "Validation Loss Epoch: 60: 16.4893\n",
            "\n",
            "\n",
            "Train Accuracy Epoch: 60: 0.7176\n",
            "Validation Accuracy Epoch: 60: 0.7478\n",
            "Train F1 Epoch: 60: 0.7066\n",
            "Validation F1 Epoch: 60: 0.7234\n",
            "------------------------------\n",
            "Training Time: 2475.85s\n"
          ]
        },
        {
          "output_type": "stream",
          "name": "stderr",
          "text": [
            "\n"
          ]
        }
      ]
    },
    {
      "cell_type": "code",
      "source": [
        "torch.cuda.empty_cache()"
      ],
      "metadata": {
        "id": "tqfOtrqRvIu1"
      },
      "execution_count": null,
      "outputs": []
    },
    {
      "cell_type": "code",
      "source": [
        "from sklearn.metrics import accuracy_score, f1_score\n",
        "\n",
        "labels = []\n",
        "ids = []\n",
        "imgs = []\n",
        "test_loss = 0  # Inicializa la pérdida total\n",
        "\n",
        "model.eval()\n",
        "with torch.no_grad():\n",
        "  for idx, sample in enumerate(tqdm(test_dataloader, position = 0, leave =True )):\n",
        "    img = sample['image'].to(device)\n",
        "    ids.extend([int(i)+1 for i in sample['index']])\n",
        "    outputs = model(img)\n",
        "    imgs.extend(img.detach().cpu())\n",
        "    _, predicted = torch.max(outputs, 1)  # Obtiene las predicciones\n",
        "    labels.extend([int(i) for i in torch.argmax(outputs, dim=1)])\n",
        "\n",
        "    # Calcula la pérdida para este batch y acumula\n",
        "    loss = criterion(outputs, predicted.to(device))\n",
        "    # Asegúrate de que predicted esté en el dispositivo correcto\n",
        "    test_loss += loss.item()\n",
        "\n",
        "\n",
        "# Calcula las métricas después del bucle\n",
        "test_accuracy = accuracy_score(test_df.iloc[:,0].values, labels)\n",
        "test_f1 = f1_score(test_df.iloc[:,0].values, labels, average='weighted')\n",
        "test_loss /= len(test_dataloader)  # Calcula la pérdida promedio\n",
        "\n",
        "print(f\"Test Accuracy: {test_accuracy:.4f}\")\n",
        "print(f\"Test F1 Score: {test_f1:.4f}\")\n",
        "print(f\"Test Loss: {test_loss:.4f}\")\n",
        "\n"
      ],
      "metadata": {
        "id": "zmqDI1q8vU29",
        "colab": {
          "base_uri": "https://localhost:8080/"
        },
        "outputId": "87894bdc-5770-4d1e-c096-683f4025b7ba"
      },
      "execution_count": null,
      "outputs": [
        {
          "output_type": "stream",
          "name": "stderr",
          "text": [
            "100%|██████████| 40/40 [00:02<00:00, 17.29it/s]"
          ]
        },
        {
          "output_type": "stream",
          "name": "stdout",
          "text": [
            "Test Accuracy: 0.1051\n",
            "Test F1 Score: 0.1002\n",
            "Test Loss: 0.3163\n"
          ]
        },
        {
          "output_type": "stream",
          "name": "stderr",
          "text": [
            "\n"
          ]
        }
      ]
    },
    {
      "cell_type": "code",
      "source": [
        "label_names = {\n",
        "        0: \"T-shirt/top\",\n",
        "        1: \"Trouser\",\n",
        "        2: \"Pullover\",\n",
        "        3: \"Dress\",\n",
        "        4: \"Coat\",\n",
        "        5: \"Sandal\",\n",
        "        6: \"Shirt\",\n",
        "        7: \"Sneaker\",\n",
        "        8: \"Bag\",\n",
        "        9: \"Ankle boot\"\n",
        "    }\n"
      ],
      "metadata": {
        "id": "jEBxcJ1NKXOf"
      },
      "execution_count": null,
      "outputs": []
    },
    {
      "cell_type": "code",
      "source": [
        "plt.figure()\n",
        "f,axarr =  plt.subplots(2,3)\n",
        "counter = 0\n",
        "for i in range(2):\n",
        "  for j in range(3):\n",
        "    axarr[i,j].imshow(imgs[counter].squeeze(), cmap='gray')\n",
        "    axarr[i,j].set_title(f'Pred: {label_names[labels[counter]]}') #Implementar un diccionario que permita mostrar el nombre de cada predicción.\n",
        "    counter += 1\n",
        "\n",
        "plt.show()"
      ],
      "metadata": {
        "id": "zTAOhPRKwWbh",
        "colab": {
          "base_uri": "https://localhost:8080/",
          "height": 448
        },
        "outputId": "ae18a34e-d198-4ed6-ab73-7cb2904fa0c0"
      },
      "execution_count": null,
      "outputs": [
        {
          "output_type": "display_data",
          "data": {
            "text/plain": [
              "<Figure size 640x480 with 0 Axes>"
            ]
          },
          "metadata": {}
        },
        {
          "output_type": "display_data",
          "data": {
            "text/plain": [
              "<Figure size 640x480 with 6 Axes>"
            ],
            "image/png": "[encoded data removed]"
          },
          "metadata": {}
        }
      ]
    },
    {
      "cell_type": "code",
      "source": [
        "import matplotlib.pyplot as plt\n",
        "\n",
        "# Define tus listas de valores para las curvas de aprendizaje\n",
        "# train_losses, val_losses, train_accuracies, val_accuracies\n",
        "\n",
        "# Crea una figura y un conjunto de ejes\n",
        "fig, axs = plt.subplots(2, 1, figsize=(10, 10))\n",
        "# Grafica la pérdida de entrenamiento y validación\n",
        "axs[0].plot(train_losses, label='Train Loss')\n",
        "axs[0].plot(val_losses, label='Validation Loss')\n",
        "axs[0].set_title('Loss')\n",
        "axs[0].set_xlabel('Epoch')\n",
        "axs[0].set_ylabel('Loss')\n",
        "axs[0].legend()\n",
        "\n",
        "# Grafica la precisión de entrenamiento y validación\n",
        "axs[1].plot(train_accuracies, label='Train Accuracy')\n",
        "axs[1].plot(val_accuracies, label='Validation Accuracy')\n",
        "axs[1].set_title('Accuracy')\n",
        "axs[1].set_xlabel('Epoch')\n",
        "axs[1].set_ylabel('Accuracy')\n",
        "axs[1].legend()\n",
        "\n",
        "# Grafica el valor f1 de entrenamiento y validación\n",
        "axs[2].plot(train_f1_scores, label='Train F1 Score')\n",
        "axs[2].plot(val_f1_scores, label='Validation F1_Score')\n",
        "axs[2].set_title('F1 Score')\n",
        "axs[2].set_xlabel('Epoch')\n",
        "axs[2].set_ylabel('F1 Score')\n",
        "axs[2].legend()\n",
        "\n",
        "# Muestra la gráfica\n",
        "plt.show()"
      ],
      "metadata": {
        "id": "je_dSR01xmwP",
        "colab": {
          "base_uri": "https://localhost:8080/",
          "height": 872
        },
        "outputId": "c017fe3c-46d7-4b1e-f74d-4871b7c42ad3"
      },
      "execution_count": null,
      "outputs": [
        {
          "output_type": "display_data",
          "data": {
            "text/plain": [
              "<Figure size 1000x1000 with 2 Axes>"
            ],
            "image/png": "[encoded data removed]"
          },
          "metadata": {}
        }
      ]
    }
  ]
}